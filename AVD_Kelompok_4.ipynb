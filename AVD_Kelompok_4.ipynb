{
  "nbformat": 4,
  "nbformat_minor": 0,
  "metadata": {
    "colab": {
      "provenance": [],
      "include_colab_link": true
    },
    "kernelspec": {
      "name": "python3",
      "display_name": "Python 3"
    },
    "language_info": {
      "name": "python"
    }
  },
  "cells": [
    {
      "cell_type": "markdown",
      "metadata": {
        "id": "view-in-github",
        "colab_type": "text"
      },
      "source": [
        "<a href=\"https://colab.research.google.com/github/2373isna/Isnaeni_212410101008_TugasPBO-PR/blob/master/AVD_Kelompok_4.ipynb\" target=\"_parent\"><img src=\"https://colab.research.google.com/assets/colab-badge.svg\" alt=\"Open In Colab\"/></a>"
      ]
    },
    {
      "cell_type": "markdown",
      "source": [],
      "metadata": {
        "id": "4F0FVkxWCJPV"
      }
    },
    {
      "cell_type": "markdown",
      "source": [
        "PRA PEMROSESAN DATA"
      ],
      "metadata": {
        "id": "ObdJXUdGFIHQ"
      }
    },
    {
      "cell_type": "markdown",
      "source": [
        "Read Dataset"
      ],
      "metadata": {
        "id": "zz0vDuImCOBq"
      }
    },
    {
      "cell_type": "code",
      "source": [
        "import pandas as pd\n",
        "import numpy as np"
      ],
      "metadata": {
        "id": "gvEyIVjJCQYh"
      },
      "execution_count": null,
      "outputs": []
    },
    {
      "cell_type": "code",
      "source": [
        "data_path = 'kualitasudara.csv'\n",
        "kualitasudara = pd.read_csv(data_path, sep=';')\n",
        "kualitasudara"
      ],
      "metadata": {
        "colab": {
          "base_uri": "https://localhost:8080/",
          "height": 424
        },
        "id": "nbURgjWPC0sR",
        "outputId": "f5a3c7a5-acb0-4a63-f07c-c2ee681bdf64"
      },
      "execution_count": null,
      "outputs": [
        {
          "output_type": "execute_result",
          "data": {
            "text/plain": [
              "           date      time  pm10  pm2titik5  so2  co  o3  no2  max  \\\n",
              "0    01/01/2021  00.00.00    13         40    0  25   0    0   40   \n",
              "1    01/01/2021  01.00.00    12         38    0  24   0    0   38   \n",
              "2    01/01/2021  02.00.00    11         35    0  23   0    0   35   \n",
              "3    01/01/2021  03.00.00    10         32    0  22   0    0   32   \n",
              "4    01/01/2021  04.00.00     9         29    0  21   0    0   29   \n",
              "..          ...       ...   ...        ...  ...  ..  ..  ...  ...   \n",
              "739   1/31/2021  19.00.00    25         66   19  25  40    6   66   \n",
              "740   1/31/2021  20.00.00    24         65   19  24  39    5   65   \n",
              "741   1/31/2021  21.00.00    23         64   19  24  38    5   64   \n",
              "742   1/31/2021  22.00.00    23         63   19  24  38    5   63   \n",
              "743   1/31/2021  23.00.00    22         62   19  24  39    5   62   \n",
              "\n",
              "    criticalcomponent  category  \n",
              "0               PM2.5      Good  \n",
              "1               PM2.5      Good  \n",
              "2               PM2.5      Good  \n",
              "3               PM2.5      Good  \n",
              "4               PM2.5      Good  \n",
              "..                ...       ...  \n",
              "739             PM2.5  Moderate  \n",
              "740             PM2.5  Moderate  \n",
              "741             PM2.5  Moderate  \n",
              "742             PM2.5  Moderate  \n",
              "743             PM2.5  Moderate  \n",
              "\n",
              "[744 rows x 11 columns]"
            ],
            "text/html": [
              "\n",
              "  <div id=\"df-41b65cff-524c-4946-81e1-6297a6c0b6f4\">\n",
              "    <div class=\"colab-df-container\">\n",
              "      <div>\n",
              "<style scoped>\n",
              "    .dataframe tbody tr th:only-of-type {\n",
              "        vertical-align: middle;\n",
              "    }\n",
              "\n",
              "    .dataframe tbody tr th {\n",
              "        vertical-align: top;\n",
              "    }\n",
              "\n",
              "    .dataframe thead th {\n",
              "        text-align: right;\n",
              "    }\n",
              "</style>\n",
              "<table border=\"1\" class=\"dataframe\">\n",
              "  <thead>\n",
              "    <tr style=\"text-align: right;\">\n",
              "      <th></th>\n",
              "      <th>date</th>\n",
              "      <th>time</th>\n",
              "      <th>pm10</th>\n",
              "      <th>pm2titik5</th>\n",
              "      <th>so2</th>\n",
              "      <th>co</th>\n",
              "      <th>o3</th>\n",
              "      <th>no2</th>\n",
              "      <th>max</th>\n",
              "      <th>criticalcomponent</th>\n",
              "      <th>category</th>\n",
              "    </tr>\n",
              "  </thead>\n",
              "  <tbody>\n",
              "    <tr>\n",
              "      <th>0</th>\n",
              "      <td>01/01/2021</td>\n",
              "      <td>00.00.00</td>\n",
              "      <td>13</td>\n",
              "      <td>40</td>\n",
              "      <td>0</td>\n",
              "      <td>25</td>\n",
              "      <td>0</td>\n",
              "      <td>0</td>\n",
              "      <td>40</td>\n",
              "      <td>PM2.5</td>\n",
              "      <td>Good</td>\n",
              "    </tr>\n",
              "    <tr>\n",
              "      <th>1</th>\n",
              "      <td>01/01/2021</td>\n",
              "      <td>01.00.00</td>\n",
              "      <td>12</td>\n",
              "      <td>38</td>\n",
              "      <td>0</td>\n",
              "      <td>24</td>\n",
              "      <td>0</td>\n",
              "      <td>0</td>\n",
              "      <td>38</td>\n",
              "      <td>PM2.5</td>\n",
              "      <td>Good</td>\n",
              "    </tr>\n",
              "    <tr>\n",
              "      <th>2</th>\n",
              "      <td>01/01/2021</td>\n",
              "      <td>02.00.00</td>\n",
              "      <td>11</td>\n",
              "      <td>35</td>\n",
              "      <td>0</td>\n",
              "      <td>23</td>\n",
              "      <td>0</td>\n",
              "      <td>0</td>\n",
              "      <td>35</td>\n",
              "      <td>PM2.5</td>\n",
              "      <td>Good</td>\n",
              "    </tr>\n",
              "    <tr>\n",
              "      <th>3</th>\n",
              "      <td>01/01/2021</td>\n",
              "      <td>03.00.00</td>\n",
              "      <td>10</td>\n",
              "      <td>32</td>\n",
              "      <td>0</td>\n",
              "      <td>22</td>\n",
              "      <td>0</td>\n",
              "      <td>0</td>\n",
              "      <td>32</td>\n",
              "      <td>PM2.5</td>\n",
              "      <td>Good</td>\n",
              "    </tr>\n",
              "    <tr>\n",
              "      <th>4</th>\n",
              "      <td>01/01/2021</td>\n",
              "      <td>04.00.00</td>\n",
              "      <td>9</td>\n",
              "      <td>29</td>\n",
              "      <td>0</td>\n",
              "      <td>21</td>\n",
              "      <td>0</td>\n",
              "      <td>0</td>\n",
              "      <td>29</td>\n",
              "      <td>PM2.5</td>\n",
              "      <td>Good</td>\n",
              "    </tr>\n",
              "    <tr>\n",
              "      <th>...</th>\n",
              "      <td>...</td>\n",
              "      <td>...</td>\n",
              "      <td>...</td>\n",
              "      <td>...</td>\n",
              "      <td>...</td>\n",
              "      <td>...</td>\n",
              "      <td>...</td>\n",
              "      <td>...</td>\n",
              "      <td>...</td>\n",
              "      <td>...</td>\n",
              "      <td>...</td>\n",
              "    </tr>\n",
              "    <tr>\n",
              "      <th>739</th>\n",
              "      <td>1/31/2021</td>\n",
              "      <td>19.00.00</td>\n",
              "      <td>25</td>\n",
              "      <td>66</td>\n",
              "      <td>19</td>\n",
              "      <td>25</td>\n",
              "      <td>40</td>\n",
              "      <td>6</td>\n",
              "      <td>66</td>\n",
              "      <td>PM2.5</td>\n",
              "      <td>Moderate</td>\n",
              "    </tr>\n",
              "    <tr>\n",
              "      <th>740</th>\n",
              "      <td>1/31/2021</td>\n",
              "      <td>20.00.00</td>\n",
              "      <td>24</td>\n",
              "      <td>65</td>\n",
              "      <td>19</td>\n",
              "      <td>24</td>\n",
              "      <td>39</td>\n",
              "      <td>5</td>\n",
              "      <td>65</td>\n",
              "      <td>PM2.5</td>\n",
              "      <td>Moderate</td>\n",
              "    </tr>\n",
              "    <tr>\n",
              "      <th>741</th>\n",
              "      <td>1/31/2021</td>\n",
              "      <td>21.00.00</td>\n",
              "      <td>23</td>\n",
              "      <td>64</td>\n",
              "      <td>19</td>\n",
              "      <td>24</td>\n",
              "      <td>38</td>\n",
              "      <td>5</td>\n",
              "      <td>64</td>\n",
              "      <td>PM2.5</td>\n",
              "      <td>Moderate</td>\n",
              "    </tr>\n",
              "    <tr>\n",
              "      <th>742</th>\n",
              "      <td>1/31/2021</td>\n",
              "      <td>22.00.00</td>\n",
              "      <td>23</td>\n",
              "      <td>63</td>\n",
              "      <td>19</td>\n",
              "      <td>24</td>\n",
              "      <td>38</td>\n",
              "      <td>5</td>\n",
              "      <td>63</td>\n",
              "      <td>PM2.5</td>\n",
              "      <td>Moderate</td>\n",
              "    </tr>\n",
              "    <tr>\n",
              "      <th>743</th>\n",
              "      <td>1/31/2021</td>\n",
              "      <td>23.00.00</td>\n",
              "      <td>22</td>\n",
              "      <td>62</td>\n",
              "      <td>19</td>\n",
              "      <td>24</td>\n",
              "      <td>39</td>\n",
              "      <td>5</td>\n",
              "      <td>62</td>\n",
              "      <td>PM2.5</td>\n",
              "      <td>Moderate</td>\n",
              "    </tr>\n",
              "  </tbody>\n",
              "</table>\n",
              "<p>744 rows × 11 columns</p>\n",
              "</div>\n",
              "      <button class=\"colab-df-convert\" onclick=\"convertToInteractive('df-41b65cff-524c-4946-81e1-6297a6c0b6f4')\"\n",
              "              title=\"Convert this dataframe to an interactive table.\"\n",
              "              style=\"display:none;\">\n",
              "        \n",
              "  <svg xmlns=\"http://www.w3.org/2000/svg\" height=\"24px\"viewBox=\"0 0 24 24\"\n",
              "       width=\"24px\">\n",
              "    <path d=\"M0 0h24v24H0V0z\" fill=\"none\"/>\n",
              "    <path d=\"M18.56 5.44l.94 2.06.94-2.06 2.06-.94-2.06-.94-.94-2.06-.94 2.06-2.06.94zm-11 1L8.5 8.5l.94-2.06 2.06-.94-2.06-.94L8.5 2.5l-.94 2.06-2.06.94zm10 10l.94 2.06.94-2.06 2.06-.94-2.06-.94-.94-2.06-.94 2.06-2.06.94z\"/><path d=\"M17.41 7.96l-1.37-1.37c-.4-.4-.92-.59-1.43-.59-.52 0-1.04.2-1.43.59L10.3 9.45l-7.72 7.72c-.78.78-.78 2.05 0 2.83L4 21.41c.39.39.9.59 1.41.59.51 0 1.02-.2 1.41-.59l7.78-7.78 2.81-2.81c.8-.78.8-2.07 0-2.86zM5.41 20L4 18.59l7.72-7.72 1.47 1.35L5.41 20z\"/>\n",
              "  </svg>\n",
              "      </button>\n",
              "      \n",
              "  <style>\n",
              "    .colab-df-container {\n",
              "      display:flex;\n",
              "      flex-wrap:wrap;\n",
              "      gap: 12px;\n",
              "    }\n",
              "\n",
              "    .colab-df-convert {\n",
              "      background-color: #E8F0FE;\n",
              "      border: none;\n",
              "      border-radius: 50%;\n",
              "      cursor: pointer;\n",
              "      display: none;\n",
              "      fill: #1967D2;\n",
              "      height: 32px;\n",
              "      padding: 0 0 0 0;\n",
              "      width: 32px;\n",
              "    }\n",
              "\n",
              "    .colab-df-convert:hover {\n",
              "      background-color: #E2EBFA;\n",
              "      box-shadow: 0px 1px 2px rgba(60, 64, 67, 0.3), 0px 1px 3px 1px rgba(60, 64, 67, 0.15);\n",
              "      fill: #174EA6;\n",
              "    }\n",
              "\n",
              "    [theme=dark] .colab-df-convert {\n",
              "      background-color: #3B4455;\n",
              "      fill: #D2E3FC;\n",
              "    }\n",
              "\n",
              "    [theme=dark] .colab-df-convert:hover {\n",
              "      background-color: #434B5C;\n",
              "      box-shadow: 0px 1px 3px 1px rgba(0, 0, 0, 0.15);\n",
              "      filter: drop-shadow(0px 1px 2px rgba(0, 0, 0, 0.3));\n",
              "      fill: #FFFFFF;\n",
              "    }\n",
              "  </style>\n",
              "\n",
              "      <script>\n",
              "        const buttonEl =\n",
              "          document.querySelector('#df-41b65cff-524c-4946-81e1-6297a6c0b6f4 button.colab-df-convert');\n",
              "        buttonEl.style.display =\n",
              "          google.colab.kernel.accessAllowed ? 'block' : 'none';\n",
              "\n",
              "        async function convertToInteractive(key) {\n",
              "          const element = document.querySelector('#df-41b65cff-524c-4946-81e1-6297a6c0b6f4');\n",
              "          const dataTable =\n",
              "            await google.colab.kernel.invokeFunction('convertToInteractive',\n",
              "                                                     [key], {});\n",
              "          if (!dataTable) return;\n",
              "\n",
              "          const docLinkHtml = 'Like what you see? Visit the ' +\n",
              "            '<a target=\"_blank\" href=https://colab.research.google.com/notebooks/data_table.ipynb>data table notebook</a>'\n",
              "            + ' to learn more about interactive tables.';\n",
              "          element.innerHTML = '';\n",
              "          dataTable['output_type'] = 'display_data';\n",
              "          await google.colab.output.renderOutput(dataTable, element);\n",
              "          const docLink = document.createElement('div');\n",
              "          docLink.innerHTML = docLinkHtml;\n",
              "          element.appendChild(docLink);\n",
              "        }\n",
              "      </script>\n",
              "    </div>\n",
              "  </div>\n",
              "  "
            ]
          },
          "metadata": {},
          "execution_count": 2
        }
      ]
    },
    {
      "cell_type": "code",
      "source": [
        "for i in kualitasudara.columns:\n",
        "  print(i)\n"
      ],
      "metadata": {
        "colab": {
          "base_uri": "https://localhost:8080/"
        },
        "id": "yYQEyq7LHfVv",
        "outputId": "c7996e71-cb98-4c0e-d905-dd16db75c575"
      },
      "execution_count": null,
      "outputs": [
        {
          "output_type": "stream",
          "name": "stdout",
          "text": [
            "date\n",
            "time\n",
            "pm10\n",
            "pm2titik5\n",
            "so2\n",
            "co\n",
            "o3\n",
            "no2\n",
            "max\n",
            "criticalcomponent\n",
            "category\n"
          ]
        }
      ]
    },
    {
      "cell_type": "markdown",
      "source": [
        "Deteksi NaN Kolom"
      ],
      "metadata": {
        "id": "0otYPOs7HkNZ"
      }
    },
    {
      "cell_type": "code",
      "source": [
        "is_na = kualitasudara.isna().any(axis=0)\n",
        "is_na"
      ],
      "metadata": {
        "colab": {
          "base_uri": "https://localhost:8080/"
        },
        "id": "IQJyxzB3Hi5M",
        "outputId": "9fb75d92-08b2-4d29-b17d-6839a961cb2c"
      },
      "execution_count": null,
      "outputs": [
        {
          "output_type": "execute_result",
          "data": {
            "text/plain": [
              "date                 False\n",
              "time                 False\n",
              "pm10                 False\n",
              "pm2titik5            False\n",
              "so2                  False\n",
              "co                   False\n",
              "o3                   False\n",
              "no2                  False\n",
              "max                  False\n",
              "criticalcomponent    False\n",
              "category             False\n",
              "dtype: bool"
            ]
          },
          "metadata": {},
          "execution_count": 4
        }
      ]
    },
    {
      "cell_type": "markdown",
      "source": [
        "Tidak ditemukan kolom yang mengandung nilai NaN"
      ],
      "metadata": {
        "id": "gA7QMnUaISjy"
      }
    },
    {
      "cell_type": "markdown",
      "source": [
        "Delete Duplicate Data"
      ],
      "metadata": {
        "id": "cLg1gwuTI-SH"
      }
    },
    {
      "cell_type": "code",
      "source": [
        "kualitas_duplicated_free = kualitasudara.drop_duplicates()"
      ],
      "metadata": {
        "id": "2AcEAqmzJDPg"
      },
      "execution_count": null,
      "outputs": []
    },
    {
      "cell_type": "code",
      "source": [
        "kualitas_duplicated_free "
      ],
      "metadata": {
        "colab": {
          "base_uri": "https://localhost:8080/",
          "height": 424
        },
        "id": "-tqGwJrDJN8S",
        "outputId": "73523a3d-0868-44d2-cae7-b1012d4bf11d"
      },
      "execution_count": null,
      "outputs": [
        {
          "output_type": "execute_result",
          "data": {
            "text/plain": [
              "           date      time  pm10  pm2titik5  so2  co  o3  no2  max  \\\n",
              "0    01/01/2021  00.00.00    13         40    0  25   0    0   40   \n",
              "1    01/01/2021  01.00.00    12         38    0  24   0    0   38   \n",
              "2    01/01/2021  02.00.00    11         35    0  23   0    0   35   \n",
              "3    01/01/2021  03.00.00    10         32    0  22   0    0   32   \n",
              "4    01/01/2021  04.00.00     9         29    0  21   0    0   29   \n",
              "..          ...       ...   ...        ...  ...  ..  ..  ...  ...   \n",
              "739   1/31/2021  19.00.00    25         66   19  25  40    6   66   \n",
              "740   1/31/2021  20.00.00    24         65   19  24  39    5   65   \n",
              "741   1/31/2021  21.00.00    23         64   19  24  38    5   64   \n",
              "742   1/31/2021  22.00.00    23         63   19  24  38    5   63   \n",
              "743   1/31/2021  23.00.00    22         62   19  24  39    5   62   \n",
              "\n",
              "    criticalcomponent  category  \n",
              "0               PM2.5      Good  \n",
              "1               PM2.5      Good  \n",
              "2               PM2.5      Good  \n",
              "3               PM2.5      Good  \n",
              "4               PM2.5      Good  \n",
              "..                ...       ...  \n",
              "739             PM2.5  Moderate  \n",
              "740             PM2.5  Moderate  \n",
              "741             PM2.5  Moderate  \n",
              "742             PM2.5  Moderate  \n",
              "743             PM2.5  Moderate  \n",
              "\n",
              "[744 rows x 11 columns]"
            ],
            "text/html": [
              "\n",
              "  <div id=\"df-a4683350-ebdd-4a44-a7ba-acf8a7c96b44\">\n",
              "    <div class=\"colab-df-container\">\n",
              "      <div>\n",
              "<style scoped>\n",
              "    .dataframe tbody tr th:only-of-type {\n",
              "        vertical-align: middle;\n",
              "    }\n",
              "\n",
              "    .dataframe tbody tr th {\n",
              "        vertical-align: top;\n",
              "    }\n",
              "\n",
              "    .dataframe thead th {\n",
              "        text-align: right;\n",
              "    }\n",
              "</style>\n",
              "<table border=\"1\" class=\"dataframe\">\n",
              "  <thead>\n",
              "    <tr style=\"text-align: right;\">\n",
              "      <th></th>\n",
              "      <th>date</th>\n",
              "      <th>time</th>\n",
              "      <th>pm10</th>\n",
              "      <th>pm2titik5</th>\n",
              "      <th>so2</th>\n",
              "      <th>co</th>\n",
              "      <th>o3</th>\n",
              "      <th>no2</th>\n",
              "      <th>max</th>\n",
              "      <th>criticalcomponent</th>\n",
              "      <th>category</th>\n",
              "    </tr>\n",
              "  </thead>\n",
              "  <tbody>\n",
              "    <tr>\n",
              "      <th>0</th>\n",
              "      <td>01/01/2021</td>\n",
              "      <td>00.00.00</td>\n",
              "      <td>13</td>\n",
              "      <td>40</td>\n",
              "      <td>0</td>\n",
              "      <td>25</td>\n",
              "      <td>0</td>\n",
              "      <td>0</td>\n",
              "      <td>40</td>\n",
              "      <td>PM2.5</td>\n",
              "      <td>Good</td>\n",
              "    </tr>\n",
              "    <tr>\n",
              "      <th>1</th>\n",
              "      <td>01/01/2021</td>\n",
              "      <td>01.00.00</td>\n",
              "      <td>12</td>\n",
              "      <td>38</td>\n",
              "      <td>0</td>\n",
              "      <td>24</td>\n",
              "      <td>0</td>\n",
              "      <td>0</td>\n",
              "      <td>38</td>\n",
              "      <td>PM2.5</td>\n",
              "      <td>Good</td>\n",
              "    </tr>\n",
              "    <tr>\n",
              "      <th>2</th>\n",
              "      <td>01/01/2021</td>\n",
              "      <td>02.00.00</td>\n",
              "      <td>11</td>\n",
              "      <td>35</td>\n",
              "      <td>0</td>\n",
              "      <td>23</td>\n",
              "      <td>0</td>\n",
              "      <td>0</td>\n",
              "      <td>35</td>\n",
              "      <td>PM2.5</td>\n",
              "      <td>Good</td>\n",
              "    </tr>\n",
              "    <tr>\n",
              "      <th>3</th>\n",
              "      <td>01/01/2021</td>\n",
              "      <td>03.00.00</td>\n",
              "      <td>10</td>\n",
              "      <td>32</td>\n",
              "      <td>0</td>\n",
              "      <td>22</td>\n",
              "      <td>0</td>\n",
              "      <td>0</td>\n",
              "      <td>32</td>\n",
              "      <td>PM2.5</td>\n",
              "      <td>Good</td>\n",
              "    </tr>\n",
              "    <tr>\n",
              "      <th>4</th>\n",
              "      <td>01/01/2021</td>\n",
              "      <td>04.00.00</td>\n",
              "      <td>9</td>\n",
              "      <td>29</td>\n",
              "      <td>0</td>\n",
              "      <td>21</td>\n",
              "      <td>0</td>\n",
              "      <td>0</td>\n",
              "      <td>29</td>\n",
              "      <td>PM2.5</td>\n",
              "      <td>Good</td>\n",
              "    </tr>\n",
              "    <tr>\n",
              "      <th>...</th>\n",
              "      <td>...</td>\n",
              "      <td>...</td>\n",
              "      <td>...</td>\n",
              "      <td>...</td>\n",
              "      <td>...</td>\n",
              "      <td>...</td>\n",
              "      <td>...</td>\n",
              "      <td>...</td>\n",
              "      <td>...</td>\n",
              "      <td>...</td>\n",
              "      <td>...</td>\n",
              "    </tr>\n",
              "    <tr>\n",
              "      <th>739</th>\n",
              "      <td>1/31/2021</td>\n",
              "      <td>19.00.00</td>\n",
              "      <td>25</td>\n",
              "      <td>66</td>\n",
              "      <td>19</td>\n",
              "      <td>25</td>\n",
              "      <td>40</td>\n",
              "      <td>6</td>\n",
              "      <td>66</td>\n",
              "      <td>PM2.5</td>\n",
              "      <td>Moderate</td>\n",
              "    </tr>\n",
              "    <tr>\n",
              "      <th>740</th>\n",
              "      <td>1/31/2021</td>\n",
              "      <td>20.00.00</td>\n",
              "      <td>24</td>\n",
              "      <td>65</td>\n",
              "      <td>19</td>\n",
              "      <td>24</td>\n",
              "      <td>39</td>\n",
              "      <td>5</td>\n",
              "      <td>65</td>\n",
              "      <td>PM2.5</td>\n",
              "      <td>Moderate</td>\n",
              "    </tr>\n",
              "    <tr>\n",
              "      <th>741</th>\n",
              "      <td>1/31/2021</td>\n",
              "      <td>21.00.00</td>\n",
              "      <td>23</td>\n",
              "      <td>64</td>\n",
              "      <td>19</td>\n",
              "      <td>24</td>\n",
              "      <td>38</td>\n",
              "      <td>5</td>\n",
              "      <td>64</td>\n",
              "      <td>PM2.5</td>\n",
              "      <td>Moderate</td>\n",
              "    </tr>\n",
              "    <tr>\n",
              "      <th>742</th>\n",
              "      <td>1/31/2021</td>\n",
              "      <td>22.00.00</td>\n",
              "      <td>23</td>\n",
              "      <td>63</td>\n",
              "      <td>19</td>\n",
              "      <td>24</td>\n",
              "      <td>38</td>\n",
              "      <td>5</td>\n",
              "      <td>63</td>\n",
              "      <td>PM2.5</td>\n",
              "      <td>Moderate</td>\n",
              "    </tr>\n",
              "    <tr>\n",
              "      <th>743</th>\n",
              "      <td>1/31/2021</td>\n",
              "      <td>23.00.00</td>\n",
              "      <td>22</td>\n",
              "      <td>62</td>\n",
              "      <td>19</td>\n",
              "      <td>24</td>\n",
              "      <td>39</td>\n",
              "      <td>5</td>\n",
              "      <td>62</td>\n",
              "      <td>PM2.5</td>\n",
              "      <td>Moderate</td>\n",
              "    </tr>\n",
              "  </tbody>\n",
              "</table>\n",
              "<p>744 rows × 11 columns</p>\n",
              "</div>\n",
              "      <button class=\"colab-df-convert\" onclick=\"convertToInteractive('df-a4683350-ebdd-4a44-a7ba-acf8a7c96b44')\"\n",
              "              title=\"Convert this dataframe to an interactive table.\"\n",
              "              style=\"display:none;\">\n",
              "        \n",
              "  <svg xmlns=\"http://www.w3.org/2000/svg\" height=\"24px\"viewBox=\"0 0 24 24\"\n",
              "       width=\"24px\">\n",
              "    <path d=\"M0 0h24v24H0V0z\" fill=\"none\"/>\n",
              "    <path d=\"M18.56 5.44l.94 2.06.94-2.06 2.06-.94-2.06-.94-.94-2.06-.94 2.06-2.06.94zm-11 1L8.5 8.5l.94-2.06 2.06-.94-2.06-.94L8.5 2.5l-.94 2.06-2.06.94zm10 10l.94 2.06.94-2.06 2.06-.94-2.06-.94-.94-2.06-.94 2.06-2.06.94z\"/><path d=\"M17.41 7.96l-1.37-1.37c-.4-.4-.92-.59-1.43-.59-.52 0-1.04.2-1.43.59L10.3 9.45l-7.72 7.72c-.78.78-.78 2.05 0 2.83L4 21.41c.39.39.9.59 1.41.59.51 0 1.02-.2 1.41-.59l7.78-7.78 2.81-2.81c.8-.78.8-2.07 0-2.86zM5.41 20L4 18.59l7.72-7.72 1.47 1.35L5.41 20z\"/>\n",
              "  </svg>\n",
              "      </button>\n",
              "      \n",
              "  <style>\n",
              "    .colab-df-container {\n",
              "      display:flex;\n",
              "      flex-wrap:wrap;\n",
              "      gap: 12px;\n",
              "    }\n",
              "\n",
              "    .colab-df-convert {\n",
              "      background-color: #E8F0FE;\n",
              "      border: none;\n",
              "      border-radius: 50%;\n",
              "      cursor: pointer;\n",
              "      display: none;\n",
              "      fill: #1967D2;\n",
              "      height: 32px;\n",
              "      padding: 0 0 0 0;\n",
              "      width: 32px;\n",
              "    }\n",
              "\n",
              "    .colab-df-convert:hover {\n",
              "      background-color: #E2EBFA;\n",
              "      box-shadow: 0px 1px 2px rgba(60, 64, 67, 0.3), 0px 1px 3px 1px rgba(60, 64, 67, 0.15);\n",
              "      fill: #174EA6;\n",
              "    }\n",
              "\n",
              "    [theme=dark] .colab-df-convert {\n",
              "      background-color: #3B4455;\n",
              "      fill: #D2E3FC;\n",
              "    }\n",
              "\n",
              "    [theme=dark] .colab-df-convert:hover {\n",
              "      background-color: #434B5C;\n",
              "      box-shadow: 0px 1px 3px 1px rgba(0, 0, 0, 0.15);\n",
              "      filter: drop-shadow(0px 1px 2px rgba(0, 0, 0, 0.3));\n",
              "      fill: #FFFFFF;\n",
              "    }\n",
              "  </style>\n",
              "\n",
              "      <script>\n",
              "        const buttonEl =\n",
              "          document.querySelector('#df-a4683350-ebdd-4a44-a7ba-acf8a7c96b44 button.colab-df-convert');\n",
              "        buttonEl.style.display =\n",
              "          google.colab.kernel.accessAllowed ? 'block' : 'none';\n",
              "\n",
              "        async function convertToInteractive(key) {\n",
              "          const element = document.querySelector('#df-a4683350-ebdd-4a44-a7ba-acf8a7c96b44');\n",
              "          const dataTable =\n",
              "            await google.colab.kernel.invokeFunction('convertToInteractive',\n",
              "                                                     [key], {});\n",
              "          if (!dataTable) return;\n",
              "\n",
              "          const docLinkHtml = 'Like what you see? Visit the ' +\n",
              "            '<a target=\"_blank\" href=https://colab.research.google.com/notebooks/data_table.ipynb>data table notebook</a>'\n",
              "            + ' to learn more about interactive tables.';\n",
              "          element.innerHTML = '';\n",
              "          dataTable['output_type'] = 'display_data';\n",
              "          await google.colab.output.renderOutput(dataTable, element);\n",
              "          const docLink = document.createElement('div');\n",
              "          docLink.innerHTML = docLinkHtml;\n",
              "          element.appendChild(docLink);\n",
              "        }\n",
              "      </script>\n",
              "    </div>\n",
              "  </div>\n",
              "  "
            ]
          },
          "metadata": {},
          "execution_count": 6
        }
      ]
    },
    {
      "cell_type": "markdown",
      "source": [
        "REDUKSI DATA"
      ],
      "metadata": {
        "id": "6WiUxWI6Jvs-"
      }
    },
    {
      "cell_type": "markdown",
      "source": [
        "Drop Unused Column"
      ],
      "metadata": {
        "id": "GFxmn9DgJyVL"
      }
    },
    {
      "cell_type": "code",
      "source": [
        "new_data = kualitas_duplicated_free.drop(['date','time','max'], axis=1)\n",
        "new_data"
      ],
      "metadata": {
        "colab": {
          "base_uri": "https://localhost:8080/",
          "height": 423
        },
        "id": "0uQQxlpSVezC",
        "outputId": "cee6873e-aaa9-41c1-be8c-9698fcc9791e"
      },
      "execution_count": null,
      "outputs": [
        {
          "output_type": "execute_result",
          "data": {
            "text/plain": [
              "     pm10  pm2titik5  so2  co  o3  no2 criticalcomponent  category\n",
              "0      13         40    0  25   0    0             PM2.5      Good\n",
              "1      12         38    0  24   0    0             PM2.5      Good\n",
              "2      11         35    0  23   0    0             PM2.5      Good\n",
              "3      10         32    0  22   0    0             PM2.5      Good\n",
              "4       9         29    0  21   0    0             PM2.5      Good\n",
              "..    ...        ...  ...  ..  ..  ...               ...       ...\n",
              "739    25         66   19  25  40    6             PM2.5  Moderate\n",
              "740    24         65   19  24  39    5             PM2.5  Moderate\n",
              "741    23         64   19  24  38    5             PM2.5  Moderate\n",
              "742    23         63   19  24  38    5             PM2.5  Moderate\n",
              "743    22         62   19  24  39    5             PM2.5  Moderate\n",
              "\n",
              "[744 rows x 8 columns]"
            ],
            "text/html": [
              "\n",
              "  <div id=\"df-c3ee10fc-c263-4098-a391-7dceedcc4e11\">\n",
              "    <div class=\"colab-df-container\">\n",
              "      <div>\n",
              "<style scoped>\n",
              "    .dataframe tbody tr th:only-of-type {\n",
              "        vertical-align: middle;\n",
              "    }\n",
              "\n",
              "    .dataframe tbody tr th {\n",
              "        vertical-align: top;\n",
              "    }\n",
              "\n",
              "    .dataframe thead th {\n",
              "        text-align: right;\n",
              "    }\n",
              "</style>\n",
              "<table border=\"1\" class=\"dataframe\">\n",
              "  <thead>\n",
              "    <tr style=\"text-align: right;\">\n",
              "      <th></th>\n",
              "      <th>pm10</th>\n",
              "      <th>pm2titik5</th>\n",
              "      <th>so2</th>\n",
              "      <th>co</th>\n",
              "      <th>o3</th>\n",
              "      <th>no2</th>\n",
              "      <th>criticalcomponent</th>\n",
              "      <th>category</th>\n",
              "    </tr>\n",
              "  </thead>\n",
              "  <tbody>\n",
              "    <tr>\n",
              "      <th>0</th>\n",
              "      <td>13</td>\n",
              "      <td>40</td>\n",
              "      <td>0</td>\n",
              "      <td>25</td>\n",
              "      <td>0</td>\n",
              "      <td>0</td>\n",
              "      <td>PM2.5</td>\n",
              "      <td>Good</td>\n",
              "    </tr>\n",
              "    <tr>\n",
              "      <th>1</th>\n",
              "      <td>12</td>\n",
              "      <td>38</td>\n",
              "      <td>0</td>\n",
              "      <td>24</td>\n",
              "      <td>0</td>\n",
              "      <td>0</td>\n",
              "      <td>PM2.5</td>\n",
              "      <td>Good</td>\n",
              "    </tr>\n",
              "    <tr>\n",
              "      <th>2</th>\n",
              "      <td>11</td>\n",
              "      <td>35</td>\n",
              "      <td>0</td>\n",
              "      <td>23</td>\n",
              "      <td>0</td>\n",
              "      <td>0</td>\n",
              "      <td>PM2.5</td>\n",
              "      <td>Good</td>\n",
              "    </tr>\n",
              "    <tr>\n",
              "      <th>3</th>\n",
              "      <td>10</td>\n",
              "      <td>32</td>\n",
              "      <td>0</td>\n",
              "      <td>22</td>\n",
              "      <td>0</td>\n",
              "      <td>0</td>\n",
              "      <td>PM2.5</td>\n",
              "      <td>Good</td>\n",
              "    </tr>\n",
              "    <tr>\n",
              "      <th>4</th>\n",
              "      <td>9</td>\n",
              "      <td>29</td>\n",
              "      <td>0</td>\n",
              "      <td>21</td>\n",
              "      <td>0</td>\n",
              "      <td>0</td>\n",
              "      <td>PM2.5</td>\n",
              "      <td>Good</td>\n",
              "    </tr>\n",
              "    <tr>\n",
              "      <th>...</th>\n",
              "      <td>...</td>\n",
              "      <td>...</td>\n",
              "      <td>...</td>\n",
              "      <td>...</td>\n",
              "      <td>...</td>\n",
              "      <td>...</td>\n",
              "      <td>...</td>\n",
              "      <td>...</td>\n",
              "    </tr>\n",
              "    <tr>\n",
              "      <th>739</th>\n",
              "      <td>25</td>\n",
              "      <td>66</td>\n",
              "      <td>19</td>\n",
              "      <td>25</td>\n",
              "      <td>40</td>\n",
              "      <td>6</td>\n",
              "      <td>PM2.5</td>\n",
              "      <td>Moderate</td>\n",
              "    </tr>\n",
              "    <tr>\n",
              "      <th>740</th>\n",
              "      <td>24</td>\n",
              "      <td>65</td>\n",
              "      <td>19</td>\n",
              "      <td>24</td>\n",
              "      <td>39</td>\n",
              "      <td>5</td>\n",
              "      <td>PM2.5</td>\n",
              "      <td>Moderate</td>\n",
              "    </tr>\n",
              "    <tr>\n",
              "      <th>741</th>\n",
              "      <td>23</td>\n",
              "      <td>64</td>\n",
              "      <td>19</td>\n",
              "      <td>24</td>\n",
              "      <td>38</td>\n",
              "      <td>5</td>\n",
              "      <td>PM2.5</td>\n",
              "      <td>Moderate</td>\n",
              "    </tr>\n",
              "    <tr>\n",
              "      <th>742</th>\n",
              "      <td>23</td>\n",
              "      <td>63</td>\n",
              "      <td>19</td>\n",
              "      <td>24</td>\n",
              "      <td>38</td>\n",
              "      <td>5</td>\n",
              "      <td>PM2.5</td>\n",
              "      <td>Moderate</td>\n",
              "    </tr>\n",
              "    <tr>\n",
              "      <th>743</th>\n",
              "      <td>22</td>\n",
              "      <td>62</td>\n",
              "      <td>19</td>\n",
              "      <td>24</td>\n",
              "      <td>39</td>\n",
              "      <td>5</td>\n",
              "      <td>PM2.5</td>\n",
              "      <td>Moderate</td>\n",
              "    </tr>\n",
              "  </tbody>\n",
              "</table>\n",
              "<p>744 rows × 8 columns</p>\n",
              "</div>\n",
              "      <button class=\"colab-df-convert\" onclick=\"convertToInteractive('df-c3ee10fc-c263-4098-a391-7dceedcc4e11')\"\n",
              "              title=\"Convert this dataframe to an interactive table.\"\n",
              "              style=\"display:none;\">\n",
              "        \n",
              "  <svg xmlns=\"http://www.w3.org/2000/svg\" height=\"24px\"viewBox=\"0 0 24 24\"\n",
              "       width=\"24px\">\n",
              "    <path d=\"M0 0h24v24H0V0z\" fill=\"none\"/>\n",
              "    <path d=\"M18.56 5.44l.94 2.06.94-2.06 2.06-.94-2.06-.94-.94-2.06-.94 2.06-2.06.94zm-11 1L8.5 8.5l.94-2.06 2.06-.94-2.06-.94L8.5 2.5l-.94 2.06-2.06.94zm10 10l.94 2.06.94-2.06 2.06-.94-2.06-.94-.94-2.06-.94 2.06-2.06.94z\"/><path d=\"M17.41 7.96l-1.37-1.37c-.4-.4-.92-.59-1.43-.59-.52 0-1.04.2-1.43.59L10.3 9.45l-7.72 7.72c-.78.78-.78 2.05 0 2.83L4 21.41c.39.39.9.59 1.41.59.51 0 1.02-.2 1.41-.59l7.78-7.78 2.81-2.81c.8-.78.8-2.07 0-2.86zM5.41 20L4 18.59l7.72-7.72 1.47 1.35L5.41 20z\"/>\n",
              "  </svg>\n",
              "      </button>\n",
              "      \n",
              "  <style>\n",
              "    .colab-df-container {\n",
              "      display:flex;\n",
              "      flex-wrap:wrap;\n",
              "      gap: 12px;\n",
              "    }\n",
              "\n",
              "    .colab-df-convert {\n",
              "      background-color: #E8F0FE;\n",
              "      border: none;\n",
              "      border-radius: 50%;\n",
              "      cursor: pointer;\n",
              "      display: none;\n",
              "      fill: #1967D2;\n",
              "      height: 32px;\n",
              "      padding: 0 0 0 0;\n",
              "      width: 32px;\n",
              "    }\n",
              "\n",
              "    .colab-df-convert:hover {\n",
              "      background-color: #E2EBFA;\n",
              "      box-shadow: 0px 1px 2px rgba(60, 64, 67, 0.3), 0px 1px 3px 1px rgba(60, 64, 67, 0.15);\n",
              "      fill: #174EA6;\n",
              "    }\n",
              "\n",
              "    [theme=dark] .colab-df-convert {\n",
              "      background-color: #3B4455;\n",
              "      fill: #D2E3FC;\n",
              "    }\n",
              "\n",
              "    [theme=dark] .colab-df-convert:hover {\n",
              "      background-color: #434B5C;\n",
              "      box-shadow: 0px 1px 3px 1px rgba(0, 0, 0, 0.15);\n",
              "      filter: drop-shadow(0px 1px 2px rgba(0, 0, 0, 0.3));\n",
              "      fill: #FFFFFF;\n",
              "    }\n",
              "  </style>\n",
              "\n",
              "      <script>\n",
              "        const buttonEl =\n",
              "          document.querySelector('#df-c3ee10fc-c263-4098-a391-7dceedcc4e11 button.colab-df-convert');\n",
              "        buttonEl.style.display =\n",
              "          google.colab.kernel.accessAllowed ? 'block' : 'none';\n",
              "\n",
              "        async function convertToInteractive(key) {\n",
              "          const element = document.querySelector('#df-c3ee10fc-c263-4098-a391-7dceedcc4e11');\n",
              "          const dataTable =\n",
              "            await google.colab.kernel.invokeFunction('convertToInteractive',\n",
              "                                                     [key], {});\n",
              "          if (!dataTable) return;\n",
              "\n",
              "          const docLinkHtml = 'Like what you see? Visit the ' +\n",
              "            '<a target=\"_blank\" href=https://colab.research.google.com/notebooks/data_table.ipynb>data table notebook</a>'\n",
              "            + ' to learn more about interactive tables.';\n",
              "          element.innerHTML = '';\n",
              "          dataTable['output_type'] = 'display_data';\n",
              "          await google.colab.output.renderOutput(dataTable, element);\n",
              "          const docLink = document.createElement('div');\n",
              "          docLink.innerHTML = docLinkHtml;\n",
              "          element.appendChild(docLink);\n",
              "        }\n",
              "      </script>\n",
              "    </div>\n",
              "  </div>\n",
              "  "
            ]
          },
          "metadata": {},
          "execution_count": 48
        }
      ]
    },
    {
      "cell_type": "code",
      "source": [
        "#new_data[' so2'].unique()"
      ],
      "metadata": {
        "id": "tGRUOLojn25Z"
      },
      "execution_count": null,
      "outputs": []
    },
    {
      "cell_type": "markdown",
      "source": [
        "Covert column category to int64"
      ],
      "metadata": {
        "id": "rB4-mBevR-Yc"
      }
    },
    {
      "cell_type": "code",
      "source": [
        "new_data['pm10'].mask(new_data['pm10'] <= 50 , 0, inplace=True)\n",
        "new_data['pm10'].mask(new_data['pm10'] > 50 , 1, inplace=True)"
      ],
      "metadata": {
        "id": "UDdWu87n9jmu"
      },
      "execution_count": 46,
      "outputs": []
    },
    {
      "cell_type": "code",
      "source": [
        "new_data['pm2titik5'].mask(new_data['pm2titik5'] <= 15 , 0, inplace=True)\n",
        "new_data['pm2titik5'].mask(new_data['pm2titik5'] > 15 , 1, inplace=True)"
      ],
      "metadata": {
        "id": "XLx-Q6n3zled"
      },
      "execution_count": null,
      "outputs": []
    },
    {
      "cell_type": "code",
      "source": [
        "new_data['so2'].mask(new_data['so2'] <= 15 , 0, inplace=True)\n",
        "#new_data['so2'].mask((new_data['so2'] > 10) & (new_data['so2'] <= 20), 1, inplace=True)\n",
        "new_data['so2'].mask(new_data['so2'] > 15 , 1, inplace=True)"
      ],
      "metadata": {
        "id": "RjEsvEMZzxkt"
      },
      "execution_count": null,
      "outputs": []
    },
    {
      "cell_type": "code",
      "source": [
        "#new_data['so2'].mask((new_data['so2'] > 10) & (new_data['so2'] <= 20), 1, inplace=True)"
      ],
      "metadata": {
        "id": "qqos084lolrt"
      },
      "execution_count": null,
      "outputs": []
    },
    {
      "cell_type": "code",
      "source": [
        "#new_data['so2'].unique()"
      ],
      "metadata": {
        "id": "6e0qxgI8mXeM"
      },
      "execution_count": null,
      "outputs": []
    },
    {
      "cell_type": "code",
      "source": [
        "new_data['co'].mask(new_data['co'] <= 15 , 0, inplace=True)\n",
        "#new_data['co'].mask((new_data['co'] > 10) & (new_data['co'] <= 20), 1, inplace=True)\n",
        "new_data['co'].mask(new_data['co'] > 15 , 1, inplace=True)"
      ],
      "metadata": {
        "id": "JIvoKZ9czxSj"
      },
      "execution_count": null,
      "outputs": []
    },
    {
      "cell_type": "code",
      "source": [
        "new_data['o3'].mask(new_data['o3'] <= 30 , 0, inplace=True)\n",
        "#new_data['o3'].mask((new_data['o3'] > 20) & (new_data['o3'] <= 40), 1, inplace=True)\n",
        "new_data['o3'].mask(new_data['o3'] > 30 , 1, inplace=True)"
      ],
      "metadata": {
        "id": "psYGAOAZQle8"
      },
      "execution_count": null,
      "outputs": []
    },
    {
      "cell_type": "code",
      "source": [
        "new_data['no2'].mask(new_data['no2'] <= 4 , 0, inplace=True)\n",
        "#new_data['no2'].mask((new_data['no2'] > 20) & (new_data['no2'] <= 40), 1, inplace=True)\n",
        "new_data['no2'].mask(new_data['no2'] > 4 , 1, inplace=True)"
      ],
      "metadata": {
        "id": "hSPXIHGfQzln"
      },
      "execution_count": null,
      "outputs": []
    },
    {
      "cell_type": "code",
      "source": [
        "#new_data['pm10'].unique()"
      ],
      "metadata": {
        "id": "eWshC4wor8bW"
      },
      "execution_count": null,
      "outputs": []
    },
    {
      "cell_type": "code",
      "source": [
        "code = 1\n",
        "for i in new_data.loc[:,'category'].unique():\n",
        "  new_data['category'].loc[new_data['category']==i] = code\n",
        "  code += 1\n",
        "new_data['category'] = new_data['category'].astype('int64')"
      ],
      "metadata": {
        "colab": {
          "base_uri": "https://localhost:8080/"
        },
        "id": "hjgHXNwBi9br",
        "outputId": "e783f691-8073-4df9-e92b-a42aae18d511"
      },
      "execution_count": null,
      "outputs": [
        {
          "output_type": "stream",
          "name": "stderr",
          "text": [
            "/usr/local/lib/python3.8/dist-packages/pandas/core/indexing.py:1732: SettingWithCopyWarning: \n",
            "A value is trying to be set on a copy of a slice from a DataFrame\n",
            "\n",
            "See the caveats in the documentation: https://pandas.pydata.org/pandas-docs/stable/user_guide/indexing.html#returning-a-view-versus-a-copy\n",
            "  self._setitem_single_block(indexer, value, name)\n"
          ]
        }
      ]
    },
    {
      "cell_type": "code",
      "source": [
        "code = 1\n",
        "for i in new_data.loc[:,'criticalcomponent'].unique():\n",
        "  new_data['criticalcomponent'].loc[new_data['criticalcomponent']==i] = code\n",
        "  code += 1\n",
        "new_data['criticalcomponent'] = new_data['criticalcomponent'].astype('int64')"
      ],
      "metadata": {
        "id": "ySKRFwAjMXM3"
      },
      "execution_count": null,
      "outputs": []
    },
    {
      "cell_type": "code",
      "source": [
        "new_data"
      ],
      "metadata": {
        "colab": {
          "base_uri": "https://localhost:8080/",
          "height": 424
        },
        "id": "2tk2NCH5M6XV",
        "outputId": "509b0568-be79-49e8-e933-5ea5449326b5"
      },
      "execution_count": null,
      "outputs": [
        {
          "output_type": "execute_result",
          "data": {
            "text/plain": [
              "     pm10  pm2titik5  so2  co  o3  no2  criticalcomponent  category\n",
              "0       0          1    0   1   0    0                  1         1\n",
              "1       0          1    0   1   0    0                  1         1\n",
              "2       0          1    0   1   0    0                  1         1\n",
              "3       0          1    0   1   0    0                  1         1\n",
              "4       0          1    0   1   0    0                  1         1\n",
              "..    ...        ...  ...  ..  ..  ...                ...       ...\n",
              "739     0          1    1   1   1    1                  1         2\n",
              "740     0          1    1   1   1    1                  1         2\n",
              "741     0          1    1   1   1    1                  1         2\n",
              "742     0          1    1   1   1    1                  1         2\n",
              "743     0          1    1   1   1    1                  1         2\n",
              "\n",
              "[744 rows x 8 columns]"
            ],
            "text/html": [
              "\n",
              "  <div id=\"df-6f0f16c8-91e1-421e-828b-ab2c1c50e361\">\n",
              "    <div class=\"colab-df-container\">\n",
              "      <div>\n",
              "<style scoped>\n",
              "    .dataframe tbody tr th:only-of-type {\n",
              "        vertical-align: middle;\n",
              "    }\n",
              "\n",
              "    .dataframe tbody tr th {\n",
              "        vertical-align: top;\n",
              "    }\n",
              "\n",
              "    .dataframe thead th {\n",
              "        text-align: right;\n",
              "    }\n",
              "</style>\n",
              "<table border=\"1\" class=\"dataframe\">\n",
              "  <thead>\n",
              "    <tr style=\"text-align: right;\">\n",
              "      <th></th>\n",
              "      <th>pm10</th>\n",
              "      <th>pm2titik5</th>\n",
              "      <th>so2</th>\n",
              "      <th>co</th>\n",
              "      <th>o3</th>\n",
              "      <th>no2</th>\n",
              "      <th>criticalcomponent</th>\n",
              "      <th>category</th>\n",
              "    </tr>\n",
              "  </thead>\n",
              "  <tbody>\n",
              "    <tr>\n",
              "      <th>0</th>\n",
              "      <td>0</td>\n",
              "      <td>1</td>\n",
              "      <td>0</td>\n",
              "      <td>1</td>\n",
              "      <td>0</td>\n",
              "      <td>0</td>\n",
              "      <td>1</td>\n",
              "      <td>1</td>\n",
              "    </tr>\n",
              "    <tr>\n",
              "      <th>1</th>\n",
              "      <td>0</td>\n",
              "      <td>1</td>\n",
              "      <td>0</td>\n",
              "      <td>1</td>\n",
              "      <td>0</td>\n",
              "      <td>0</td>\n",
              "      <td>1</td>\n",
              "      <td>1</td>\n",
              "    </tr>\n",
              "    <tr>\n",
              "      <th>2</th>\n",
              "      <td>0</td>\n",
              "      <td>1</td>\n",
              "      <td>0</td>\n",
              "      <td>1</td>\n",
              "      <td>0</td>\n",
              "      <td>0</td>\n",
              "      <td>1</td>\n",
              "      <td>1</td>\n",
              "    </tr>\n",
              "    <tr>\n",
              "      <th>3</th>\n",
              "      <td>0</td>\n",
              "      <td>1</td>\n",
              "      <td>0</td>\n",
              "      <td>1</td>\n",
              "      <td>0</td>\n",
              "      <td>0</td>\n",
              "      <td>1</td>\n",
              "      <td>1</td>\n",
              "    </tr>\n",
              "    <tr>\n",
              "      <th>4</th>\n",
              "      <td>0</td>\n",
              "      <td>1</td>\n",
              "      <td>0</td>\n",
              "      <td>1</td>\n",
              "      <td>0</td>\n",
              "      <td>0</td>\n",
              "      <td>1</td>\n",
              "      <td>1</td>\n",
              "    </tr>\n",
              "    <tr>\n",
              "      <th>...</th>\n",
              "      <td>...</td>\n",
              "      <td>...</td>\n",
              "      <td>...</td>\n",
              "      <td>...</td>\n",
              "      <td>...</td>\n",
              "      <td>...</td>\n",
              "      <td>...</td>\n",
              "      <td>...</td>\n",
              "    </tr>\n",
              "    <tr>\n",
              "      <th>739</th>\n",
              "      <td>0</td>\n",
              "      <td>1</td>\n",
              "      <td>1</td>\n",
              "      <td>1</td>\n",
              "      <td>1</td>\n",
              "      <td>1</td>\n",
              "      <td>1</td>\n",
              "      <td>2</td>\n",
              "    </tr>\n",
              "    <tr>\n",
              "      <th>740</th>\n",
              "      <td>0</td>\n",
              "      <td>1</td>\n",
              "      <td>1</td>\n",
              "      <td>1</td>\n",
              "      <td>1</td>\n",
              "      <td>1</td>\n",
              "      <td>1</td>\n",
              "      <td>2</td>\n",
              "    </tr>\n",
              "    <tr>\n",
              "      <th>741</th>\n",
              "      <td>0</td>\n",
              "      <td>1</td>\n",
              "      <td>1</td>\n",
              "      <td>1</td>\n",
              "      <td>1</td>\n",
              "      <td>1</td>\n",
              "      <td>1</td>\n",
              "      <td>2</td>\n",
              "    </tr>\n",
              "    <tr>\n",
              "      <th>742</th>\n",
              "      <td>0</td>\n",
              "      <td>1</td>\n",
              "      <td>1</td>\n",
              "      <td>1</td>\n",
              "      <td>1</td>\n",
              "      <td>1</td>\n",
              "      <td>1</td>\n",
              "      <td>2</td>\n",
              "    </tr>\n",
              "    <tr>\n",
              "      <th>743</th>\n",
              "      <td>0</td>\n",
              "      <td>1</td>\n",
              "      <td>1</td>\n",
              "      <td>1</td>\n",
              "      <td>1</td>\n",
              "      <td>1</td>\n",
              "      <td>1</td>\n",
              "      <td>2</td>\n",
              "    </tr>\n",
              "  </tbody>\n",
              "</table>\n",
              "<p>744 rows × 8 columns</p>\n",
              "</div>\n",
              "      <button class=\"colab-df-convert\" onclick=\"convertToInteractive('df-6f0f16c8-91e1-421e-828b-ab2c1c50e361')\"\n",
              "              title=\"Convert this dataframe to an interactive table.\"\n",
              "              style=\"display:none;\">\n",
              "        \n",
              "  <svg xmlns=\"http://www.w3.org/2000/svg\" height=\"24px\"viewBox=\"0 0 24 24\"\n",
              "       width=\"24px\">\n",
              "    <path d=\"M0 0h24v24H0V0z\" fill=\"none\"/>\n",
              "    <path d=\"M18.56 5.44l.94 2.06.94-2.06 2.06-.94-2.06-.94-.94-2.06-.94 2.06-2.06.94zm-11 1L8.5 8.5l.94-2.06 2.06-.94-2.06-.94L8.5 2.5l-.94 2.06-2.06.94zm10 10l.94 2.06.94-2.06 2.06-.94-2.06-.94-.94-2.06-.94 2.06-2.06.94z\"/><path d=\"M17.41 7.96l-1.37-1.37c-.4-.4-.92-.59-1.43-.59-.52 0-1.04.2-1.43.59L10.3 9.45l-7.72 7.72c-.78.78-.78 2.05 0 2.83L4 21.41c.39.39.9.59 1.41.59.51 0 1.02-.2 1.41-.59l7.78-7.78 2.81-2.81c.8-.78.8-2.07 0-2.86zM5.41 20L4 18.59l7.72-7.72 1.47 1.35L5.41 20z\"/>\n",
              "  </svg>\n",
              "      </button>\n",
              "      \n",
              "  <style>\n",
              "    .colab-df-container {\n",
              "      display:flex;\n",
              "      flex-wrap:wrap;\n",
              "      gap: 12px;\n",
              "    }\n",
              "\n",
              "    .colab-df-convert {\n",
              "      background-color: #E8F0FE;\n",
              "      border: none;\n",
              "      border-radius: 50%;\n",
              "      cursor: pointer;\n",
              "      display: none;\n",
              "      fill: #1967D2;\n",
              "      height: 32px;\n",
              "      padding: 0 0 0 0;\n",
              "      width: 32px;\n",
              "    }\n",
              "\n",
              "    .colab-df-convert:hover {\n",
              "      background-color: #E2EBFA;\n",
              "      box-shadow: 0px 1px 2px rgba(60, 64, 67, 0.3), 0px 1px 3px 1px rgba(60, 64, 67, 0.15);\n",
              "      fill: #174EA6;\n",
              "    }\n",
              "\n",
              "    [theme=dark] .colab-df-convert {\n",
              "      background-color: #3B4455;\n",
              "      fill: #D2E3FC;\n",
              "    }\n",
              "\n",
              "    [theme=dark] .colab-df-convert:hover {\n",
              "      background-color: #434B5C;\n",
              "      box-shadow: 0px 1px 3px 1px rgba(0, 0, 0, 0.15);\n",
              "      filter: drop-shadow(0px 1px 2px rgba(0, 0, 0, 0.3));\n",
              "      fill: #FFFFFF;\n",
              "    }\n",
              "  </style>\n",
              "\n",
              "      <script>\n",
              "        const buttonEl =\n",
              "          document.querySelector('#df-6f0f16c8-91e1-421e-828b-ab2c1c50e361 button.colab-df-convert');\n",
              "        buttonEl.style.display =\n",
              "          google.colab.kernel.accessAllowed ? 'block' : 'none';\n",
              "\n",
              "        async function convertToInteractive(key) {\n",
              "          const element = document.querySelector('#df-6f0f16c8-91e1-421e-828b-ab2c1c50e361');\n",
              "          const dataTable =\n",
              "            await google.colab.kernel.invokeFunction('convertToInteractive',\n",
              "                                                     [key], {});\n",
              "          if (!dataTable) return;\n",
              "\n",
              "          const docLinkHtml = 'Like what you see? Visit the ' +\n",
              "            '<a target=\"_blank\" href=https://colab.research.google.com/notebooks/data_table.ipynb>data table notebook</a>'\n",
              "            + ' to learn more about interactive tables.';\n",
              "          element.innerHTML = '';\n",
              "          dataTable['output_type'] = 'display_data';\n",
              "          await google.colab.output.renderOutput(dataTable, element);\n",
              "          const docLink = document.createElement('div');\n",
              "          docLink.innerHTML = docLinkHtml;\n",
              "          element.appendChild(docLink);\n",
              "        }\n",
              "      </script>\n",
              "    </div>\n",
              "  </div>\n",
              "  "
            ]
          },
          "metadata": {},
          "execution_count": 20
        }
      ]
    },
    {
      "cell_type": "code",
      "source": [
        "#new_data['so2'].unique()"
      ],
      "metadata": {
        "id": "fiW0l_DUoPZA"
      },
      "execution_count": null,
      "outputs": []
    },
    {
      "cell_type": "code",
      "source": [
        "from sklearn.preprocessing import StandardScaler\n",
        "\n",
        "kualitas_standarded = StandardScaler().fit_transform(new_data.iloc[:,:8])\n",
        "kualitas_standarded = pd.DataFrame(kualitas_standarded)\n",
        "kualitas_standarded"
      ],
      "metadata": {
        "id": "3FQLg4T-c1Qu",
        "colab": {
          "base_uri": "https://localhost:8080/",
          "height": 424
        },
        "outputId": "fe79668a-42cf-4e20-c092-9518a0ac58b9"
      },
      "execution_count": null,
      "outputs": [
        {
          "output_type": "execute_result",
          "data": {
            "text/plain": [
              "       0         1         2    3         4         5         6         7\n",
              "0    0.0  0.116722 -1.244164  0.0 -0.790224 -0.554578 -0.420114 -1.081248\n",
              "1    0.0  0.116722 -1.244164  0.0 -0.790224 -0.554578 -0.420114 -1.081248\n",
              "2    0.0  0.116722 -1.244164  0.0 -0.790224 -0.554578 -0.420114 -1.081248\n",
              "3    0.0  0.116722 -1.244164  0.0 -0.790224 -0.554578 -0.420114 -1.081248\n",
              "4    0.0  0.116722 -1.244164  0.0 -0.790224 -0.554578 -0.420114 -1.081248\n",
              "..   ...       ...       ...  ...       ...       ...       ...       ...\n",
              "739  0.0  0.116722  0.803752  0.0  1.265464  1.803172 -0.420114  0.924858\n",
              "740  0.0  0.116722  0.803752  0.0  1.265464  1.803172 -0.420114  0.924858\n",
              "741  0.0  0.116722  0.803752  0.0  1.265464  1.803172 -0.420114  0.924858\n",
              "742  0.0  0.116722  0.803752  0.0  1.265464  1.803172 -0.420114  0.924858\n",
              "743  0.0  0.116722  0.803752  0.0  1.265464  1.803172 -0.420114  0.924858\n",
              "\n",
              "[744 rows x 8 columns]"
            ],
            "text/html": [
              "\n",
              "  <div id=\"df-9301a3d9-d8e0-47a8-a30f-57e398e43beb\">\n",
              "    <div class=\"colab-df-container\">\n",
              "      <div>\n",
              "<style scoped>\n",
              "    .dataframe tbody tr th:only-of-type {\n",
              "        vertical-align: middle;\n",
              "    }\n",
              "\n",
              "    .dataframe tbody tr th {\n",
              "        vertical-align: top;\n",
              "    }\n",
              "\n",
              "    .dataframe thead th {\n",
              "        text-align: right;\n",
              "    }\n",
              "</style>\n",
              "<table border=\"1\" class=\"dataframe\">\n",
              "  <thead>\n",
              "    <tr style=\"text-align: right;\">\n",
              "      <th></th>\n",
              "      <th>0</th>\n",
              "      <th>1</th>\n",
              "      <th>2</th>\n",
              "      <th>3</th>\n",
              "      <th>4</th>\n",
              "      <th>5</th>\n",
              "      <th>6</th>\n",
              "      <th>7</th>\n",
              "    </tr>\n",
              "  </thead>\n",
              "  <tbody>\n",
              "    <tr>\n",
              "      <th>0</th>\n",
              "      <td>0.0</td>\n",
              "      <td>0.116722</td>\n",
              "      <td>-1.244164</td>\n",
              "      <td>0.0</td>\n",
              "      <td>-0.790224</td>\n",
              "      <td>-0.554578</td>\n",
              "      <td>-0.420114</td>\n",
              "      <td>-1.081248</td>\n",
              "    </tr>\n",
              "    <tr>\n",
              "      <th>1</th>\n",
              "      <td>0.0</td>\n",
              "      <td>0.116722</td>\n",
              "      <td>-1.244164</td>\n",
              "      <td>0.0</td>\n",
              "      <td>-0.790224</td>\n",
              "      <td>-0.554578</td>\n",
              "      <td>-0.420114</td>\n",
              "      <td>-1.081248</td>\n",
              "    </tr>\n",
              "    <tr>\n",
              "      <th>2</th>\n",
              "      <td>0.0</td>\n",
              "      <td>0.116722</td>\n",
              "      <td>-1.244164</td>\n",
              "      <td>0.0</td>\n",
              "      <td>-0.790224</td>\n",
              "      <td>-0.554578</td>\n",
              "      <td>-0.420114</td>\n",
              "      <td>-1.081248</td>\n",
              "    </tr>\n",
              "    <tr>\n",
              "      <th>3</th>\n",
              "      <td>0.0</td>\n",
              "      <td>0.116722</td>\n",
              "      <td>-1.244164</td>\n",
              "      <td>0.0</td>\n",
              "      <td>-0.790224</td>\n",
              "      <td>-0.554578</td>\n",
              "      <td>-0.420114</td>\n",
              "      <td>-1.081248</td>\n",
              "    </tr>\n",
              "    <tr>\n",
              "      <th>4</th>\n",
              "      <td>0.0</td>\n",
              "      <td>0.116722</td>\n",
              "      <td>-1.244164</td>\n",
              "      <td>0.0</td>\n",
              "      <td>-0.790224</td>\n",
              "      <td>-0.554578</td>\n",
              "      <td>-0.420114</td>\n",
              "      <td>-1.081248</td>\n",
              "    </tr>\n",
              "    <tr>\n",
              "      <th>...</th>\n",
              "      <td>...</td>\n",
              "      <td>...</td>\n",
              "      <td>...</td>\n",
              "      <td>...</td>\n",
              "      <td>...</td>\n",
              "      <td>...</td>\n",
              "      <td>...</td>\n",
              "      <td>...</td>\n",
              "    </tr>\n",
              "    <tr>\n",
              "      <th>739</th>\n",
              "      <td>0.0</td>\n",
              "      <td>0.116722</td>\n",
              "      <td>0.803752</td>\n",
              "      <td>0.0</td>\n",
              "      <td>1.265464</td>\n",
              "      <td>1.803172</td>\n",
              "      <td>-0.420114</td>\n",
              "      <td>0.924858</td>\n",
              "    </tr>\n",
              "    <tr>\n",
              "      <th>740</th>\n",
              "      <td>0.0</td>\n",
              "      <td>0.116722</td>\n",
              "      <td>0.803752</td>\n",
              "      <td>0.0</td>\n",
              "      <td>1.265464</td>\n",
              "      <td>1.803172</td>\n",
              "      <td>-0.420114</td>\n",
              "      <td>0.924858</td>\n",
              "    </tr>\n",
              "    <tr>\n",
              "      <th>741</th>\n",
              "      <td>0.0</td>\n",
              "      <td>0.116722</td>\n",
              "      <td>0.803752</td>\n",
              "      <td>0.0</td>\n",
              "      <td>1.265464</td>\n",
              "      <td>1.803172</td>\n",
              "      <td>-0.420114</td>\n",
              "      <td>0.924858</td>\n",
              "    </tr>\n",
              "    <tr>\n",
              "      <th>742</th>\n",
              "      <td>0.0</td>\n",
              "      <td>0.116722</td>\n",
              "      <td>0.803752</td>\n",
              "      <td>0.0</td>\n",
              "      <td>1.265464</td>\n",
              "      <td>1.803172</td>\n",
              "      <td>-0.420114</td>\n",
              "      <td>0.924858</td>\n",
              "    </tr>\n",
              "    <tr>\n",
              "      <th>743</th>\n",
              "      <td>0.0</td>\n",
              "      <td>0.116722</td>\n",
              "      <td>0.803752</td>\n",
              "      <td>0.0</td>\n",
              "      <td>1.265464</td>\n",
              "      <td>1.803172</td>\n",
              "      <td>-0.420114</td>\n",
              "      <td>0.924858</td>\n",
              "    </tr>\n",
              "  </tbody>\n",
              "</table>\n",
              "<p>744 rows × 8 columns</p>\n",
              "</div>\n",
              "      <button class=\"colab-df-convert\" onclick=\"convertToInteractive('df-9301a3d9-d8e0-47a8-a30f-57e398e43beb')\"\n",
              "              title=\"Convert this dataframe to an interactive table.\"\n",
              "              style=\"display:none;\">\n",
              "        \n",
              "  <svg xmlns=\"http://www.w3.org/2000/svg\" height=\"24px\"viewBox=\"0 0 24 24\"\n",
              "       width=\"24px\">\n",
              "    <path d=\"M0 0h24v24H0V0z\" fill=\"none\"/>\n",
              "    <path d=\"M18.56 5.44l.94 2.06.94-2.06 2.06-.94-2.06-.94-.94-2.06-.94 2.06-2.06.94zm-11 1L8.5 8.5l.94-2.06 2.06-.94-2.06-.94L8.5 2.5l-.94 2.06-2.06.94zm10 10l.94 2.06.94-2.06 2.06-.94-2.06-.94-.94-2.06-.94 2.06-2.06.94z\"/><path d=\"M17.41 7.96l-1.37-1.37c-.4-.4-.92-.59-1.43-.59-.52 0-1.04.2-1.43.59L10.3 9.45l-7.72 7.72c-.78.78-.78 2.05 0 2.83L4 21.41c.39.39.9.59 1.41.59.51 0 1.02-.2 1.41-.59l7.78-7.78 2.81-2.81c.8-.78.8-2.07 0-2.86zM5.41 20L4 18.59l7.72-7.72 1.47 1.35L5.41 20z\"/>\n",
              "  </svg>\n",
              "      </button>\n",
              "      \n",
              "  <style>\n",
              "    .colab-df-container {\n",
              "      display:flex;\n",
              "      flex-wrap:wrap;\n",
              "      gap: 12px;\n",
              "    }\n",
              "\n",
              "    .colab-df-convert {\n",
              "      background-color: #E8F0FE;\n",
              "      border: none;\n",
              "      border-radius: 50%;\n",
              "      cursor: pointer;\n",
              "      display: none;\n",
              "      fill: #1967D2;\n",
              "      height: 32px;\n",
              "      padding: 0 0 0 0;\n",
              "      width: 32px;\n",
              "    }\n",
              "\n",
              "    .colab-df-convert:hover {\n",
              "      background-color: #E2EBFA;\n",
              "      box-shadow: 0px 1px 2px rgba(60, 64, 67, 0.3), 0px 1px 3px 1px rgba(60, 64, 67, 0.15);\n",
              "      fill: #174EA6;\n",
              "    }\n",
              "\n",
              "    [theme=dark] .colab-df-convert {\n",
              "      background-color: #3B4455;\n",
              "      fill: #D2E3FC;\n",
              "    }\n",
              "\n",
              "    [theme=dark] .colab-df-convert:hover {\n",
              "      background-color: #434B5C;\n",
              "      box-shadow: 0px 1px 3px 1px rgba(0, 0, 0, 0.15);\n",
              "      filter: drop-shadow(0px 1px 2px rgba(0, 0, 0, 0.3));\n",
              "      fill: #FFFFFF;\n",
              "    }\n",
              "  </style>\n",
              "\n",
              "      <script>\n",
              "        const buttonEl =\n",
              "          document.querySelector('#df-9301a3d9-d8e0-47a8-a30f-57e398e43beb button.colab-df-convert');\n",
              "        buttonEl.style.display =\n",
              "          google.colab.kernel.accessAllowed ? 'block' : 'none';\n",
              "\n",
              "        async function convertToInteractive(key) {\n",
              "          const element = document.querySelector('#df-9301a3d9-d8e0-47a8-a30f-57e398e43beb');\n",
              "          const dataTable =\n",
              "            await google.colab.kernel.invokeFunction('convertToInteractive',\n",
              "                                                     [key], {});\n",
              "          if (!dataTable) return;\n",
              "\n",
              "          const docLinkHtml = 'Like what you see? Visit the ' +\n",
              "            '<a target=\"_blank\" href=https://colab.research.google.com/notebooks/data_table.ipynb>data table notebook</a>'\n",
              "            + ' to learn more about interactive tables.';\n",
              "          element.innerHTML = '';\n",
              "          dataTable['output_type'] = 'display_data';\n",
              "          await google.colab.output.renderOutput(dataTable, element);\n",
              "          const docLink = document.createElement('div');\n",
              "          docLink.innerHTML = docLinkHtml;\n",
              "          element.appendChild(docLink);\n",
              "        }\n",
              "      </script>\n",
              "    </div>\n",
              "  </div>\n",
              "  "
            ]
          },
          "metadata": {},
          "execution_count": 22
        }
      ]
    },
    {
      "cell_type": "markdown",
      "source": [
        "UJI KORELASI ANTAR KOLOM"
      ],
      "metadata": {
        "id": "AQyjJkPNOHfN"
      }
    },
    {
      "cell_type": "code",
      "source": [
        "import matplotlib.pyplot as plt\n",
        "import seaborn as sns\n",
        "student_corr = kualitas_standarded.corr()\n",
        "plt.figure(figsize=(12,10))\n",
        "sns.heatmap(student_corr, annot=True, cmap=plt.cm.Reds)\n",
        "plt.show()"
      ],
      "metadata": {
        "id": "zBKmIbTT0LpM",
        "colab": {
          "base_uri": "https://localhost:8080/",
          "height": 596
        },
        "outputId": "4533b480-8feb-45f6-a634-bf981d975501"
      },
      "execution_count": null,
      "outputs": [
        {
          "output_type": "display_data",
          "data": {
            "text/plain": [
              "<Figure size 864x720 with 2 Axes>"
            ],
            "image/png": "[encoded data removed]"
          },
          "metadata": {
            "needs_background": "light"
          }
        }
      ]
    },
    {
      "cell_type": "markdown",
      "source": [
        "Visualisasi data"
      ],
      "metadata": {
        "id": "Au-qB1CNNWai"
      }
    },
    {
      "cell_type": "markdown",
      "source": [
        "read the new dataframe"
      ],
      "metadata": {
        "id": "Q6uqRyTKNY2j"
      }
    },
    {
      "cell_type": "code",
      "source": [
        "fix_kualitasudara_data = new_data\n",
        "fix_kualitasudara_data"
      ],
      "metadata": {
        "id": "3IFo5wq207eR",
        "colab": {
          "base_uri": "https://localhost:8080/",
          "height": 424
        },
        "outputId": "2fa70b40-4d18-417c-d292-b531ef345c91"
      },
      "execution_count": null,
      "outputs": [
        {
          "output_type": "execute_result",
          "data": {
            "text/plain": [
              "     pm10  pm2titik5  so2  co  o3  no2  criticalcomponent  category\n",
              "0       0          1    0   1   0    0                  1         1\n",
              "1       0          1    0   1   0    0                  1         1\n",
              "2       0          1    0   1   0    0                  1         1\n",
              "3       0          1    0   1   0    0                  1         1\n",
              "4       0          1    0   1   0    0                  1         1\n",
              "..    ...        ...  ...  ..  ..  ...                ...       ...\n",
              "739     0          1    1   1   1    1                  1         2\n",
              "740     0          1    1   1   1    1                  1         2\n",
              "741     0          1    1   1   1    1                  1         2\n",
              "742     0          1    1   1   1    1                  1         2\n",
              "743     0          1    1   1   1    1                  1         2\n",
              "\n",
              "[744 rows x 8 columns]"
            ],
            "text/html": [
              "\n",
              "  <div id=\"df-63188aa3-d726-41ad-b471-26660cfe3ea9\">\n",
              "    <div class=\"colab-df-container\">\n",
              "      <div>\n",
              "<style scoped>\n",
              "    .dataframe tbody tr th:only-of-type {\n",
              "        vertical-align: middle;\n",
              "    }\n",
              "\n",
              "    .dataframe tbody tr th {\n",
              "        vertical-align: top;\n",
              "    }\n",
              "\n",
              "    .dataframe thead th {\n",
              "        text-align: right;\n",
              "    }\n",
              "</style>\n",
              "<table border=\"1\" class=\"dataframe\">\n",
              "  <thead>\n",
              "    <tr style=\"text-align: right;\">\n",
              "      <th></th>\n",
              "      <th>pm10</th>\n",
              "      <th>pm2titik5</th>\n",
              "      <th>so2</th>\n",
              "      <th>co</th>\n",
              "      <th>o3</th>\n",
              "      <th>no2</th>\n",
              "      <th>criticalcomponent</th>\n",
              "      <th>category</th>\n",
              "    </tr>\n",
              "  </thead>\n",
              "  <tbody>\n",
              "    <tr>\n",
              "      <th>0</th>\n",
              "      <td>0</td>\n",
              "      <td>1</td>\n",
              "      <td>0</td>\n",
              "      <td>1</td>\n",
              "      <td>0</td>\n",
              "      <td>0</td>\n",
              "      <td>1</td>\n",
              "      <td>1</td>\n",
              "    </tr>\n",
              "    <tr>\n",
              "      <th>1</th>\n",
              "      <td>0</td>\n",
              "      <td>1</td>\n",
              "      <td>0</td>\n",
              "      <td>1</td>\n",
              "      <td>0</td>\n",
              "      <td>0</td>\n",
              "      <td>1</td>\n",
              "      <td>1</td>\n",
              "    </tr>\n",
              "    <tr>\n",
              "      <th>2</th>\n",
              "      <td>0</td>\n",
              "      <td>1</td>\n",
              "      <td>0</td>\n",
              "      <td>1</td>\n",
              "      <td>0</td>\n",
              "      <td>0</td>\n",
              "      <td>1</td>\n",
              "      <td>1</td>\n",
              "    </tr>\n",
              "    <tr>\n",
              "      <th>3</th>\n",
              "      <td>0</td>\n",
              "      <td>1</td>\n",
              "      <td>0</td>\n",
              "      <td>1</td>\n",
              "      <td>0</td>\n",
              "      <td>0</td>\n",
              "      <td>1</td>\n",
              "      <td>1</td>\n",
              "    </tr>\n",
              "    <tr>\n",
              "      <th>4</th>\n",
              "      <td>0</td>\n",
              "      <td>1</td>\n",
              "      <td>0</td>\n",
              "      <td>1</td>\n",
              "      <td>0</td>\n",
              "      <td>0</td>\n",
              "      <td>1</td>\n",
              "      <td>1</td>\n",
              "    </tr>\n",
              "    <tr>\n",
              "      <th>...</th>\n",
              "      <td>...</td>\n",
              "      <td>...</td>\n",
              "      <td>...</td>\n",
              "      <td>...</td>\n",
              "      <td>...</td>\n",
              "      <td>...</td>\n",
              "      <td>...</td>\n",
              "      <td>...</td>\n",
              "    </tr>\n",
              "    <tr>\n",
              "      <th>739</th>\n",
              "      <td>0</td>\n",
              "      <td>1</td>\n",
              "      <td>1</td>\n",
              "      <td>1</td>\n",
              "      <td>1</td>\n",
              "      <td>1</td>\n",
              "      <td>1</td>\n",
              "      <td>2</td>\n",
              "    </tr>\n",
              "    <tr>\n",
              "      <th>740</th>\n",
              "      <td>0</td>\n",
              "      <td>1</td>\n",
              "      <td>1</td>\n",
              "      <td>1</td>\n",
              "      <td>1</td>\n",
              "      <td>1</td>\n",
              "      <td>1</td>\n",
              "      <td>2</td>\n",
              "    </tr>\n",
              "    <tr>\n",
              "      <th>741</th>\n",
              "      <td>0</td>\n",
              "      <td>1</td>\n",
              "      <td>1</td>\n",
              "      <td>1</td>\n",
              "      <td>1</td>\n",
              "      <td>1</td>\n",
              "      <td>1</td>\n",
              "      <td>2</td>\n",
              "    </tr>\n",
              "    <tr>\n",
              "      <th>742</th>\n",
              "      <td>0</td>\n",
              "      <td>1</td>\n",
              "      <td>1</td>\n",
              "      <td>1</td>\n",
              "      <td>1</td>\n",
              "      <td>1</td>\n",
              "      <td>1</td>\n",
              "      <td>2</td>\n",
              "    </tr>\n",
              "    <tr>\n",
              "      <th>743</th>\n",
              "      <td>0</td>\n",
              "      <td>1</td>\n",
              "      <td>1</td>\n",
              "      <td>1</td>\n",
              "      <td>1</td>\n",
              "      <td>1</td>\n",
              "      <td>1</td>\n",
              "      <td>2</td>\n",
              "    </tr>\n",
              "  </tbody>\n",
              "</table>\n",
              "<p>744 rows × 8 columns</p>\n",
              "</div>\n",
              "      <button class=\"colab-df-convert\" onclick=\"convertToInteractive('df-63188aa3-d726-41ad-b471-26660cfe3ea9')\"\n",
              "              title=\"Convert this dataframe to an interactive table.\"\n",
              "              style=\"display:none;\">\n",
              "        \n",
              "  <svg xmlns=\"http://www.w3.org/2000/svg\" height=\"24px\"viewBox=\"0 0 24 24\"\n",
              "       width=\"24px\">\n",
              "    <path d=\"M0 0h24v24H0V0z\" fill=\"none\"/>\n",
              "    <path d=\"M18.56 5.44l.94 2.06.94-2.06 2.06-.94-2.06-.94-.94-2.06-.94 2.06-2.06.94zm-11 1L8.5 8.5l.94-2.06 2.06-.94-2.06-.94L8.5 2.5l-.94 2.06-2.06.94zm10 10l.94 2.06.94-2.06 2.06-.94-2.06-.94-.94-2.06-.94 2.06-2.06.94z\"/><path d=\"M17.41 7.96l-1.37-1.37c-.4-.4-.92-.59-1.43-.59-.52 0-1.04.2-1.43.59L10.3 9.45l-7.72 7.72c-.78.78-.78 2.05 0 2.83L4 21.41c.39.39.9.59 1.41.59.51 0 1.02-.2 1.41-.59l7.78-7.78 2.81-2.81c.8-.78.8-2.07 0-2.86zM5.41 20L4 18.59l7.72-7.72 1.47 1.35L5.41 20z\"/>\n",
              "  </svg>\n",
              "      </button>\n",
              "      \n",
              "  <style>\n",
              "    .colab-df-container {\n",
              "      display:flex;\n",
              "      flex-wrap:wrap;\n",
              "      gap: 12px;\n",
              "    }\n",
              "\n",
              "    .colab-df-convert {\n",
              "      background-color: #E8F0FE;\n",
              "      border: none;\n",
              "      border-radius: 50%;\n",
              "      cursor: pointer;\n",
              "      display: none;\n",
              "      fill: #1967D2;\n",
              "      height: 32px;\n",
              "      padding: 0 0 0 0;\n",
              "      width: 32px;\n",
              "    }\n",
              "\n",
              "    .colab-df-convert:hover {\n",
              "      background-color: #E2EBFA;\n",
              "      box-shadow: 0px 1px 2px rgba(60, 64, 67, 0.3), 0px 1px 3px 1px rgba(60, 64, 67, 0.15);\n",
              "      fill: #174EA6;\n",
              "    }\n",
              "\n",
              "    [theme=dark] .colab-df-convert {\n",
              "      background-color: #3B4455;\n",
              "      fill: #D2E3FC;\n",
              "    }\n",
              "\n",
              "    [theme=dark] .colab-df-convert:hover {\n",
              "      background-color: #434B5C;\n",
              "      box-shadow: 0px 1px 3px 1px rgba(0, 0, 0, 0.15);\n",
              "      filter: drop-shadow(0px 1px 2px rgba(0, 0, 0, 0.3));\n",
              "      fill: #FFFFFF;\n",
              "    }\n",
              "  </style>\n",
              "\n",
              "      <script>\n",
              "        const buttonEl =\n",
              "          document.querySelector('#df-63188aa3-d726-41ad-b471-26660cfe3ea9 button.colab-df-convert');\n",
              "        buttonEl.style.display =\n",
              "          google.colab.kernel.accessAllowed ? 'block' : 'none';\n",
              "\n",
              "        async function convertToInteractive(key) {\n",
              "          const element = document.querySelector('#df-63188aa3-d726-41ad-b471-26660cfe3ea9');\n",
              "          const dataTable =\n",
              "            await google.colab.kernel.invokeFunction('convertToInteractive',\n",
              "                                                     [key], {});\n",
              "          if (!dataTable) return;\n",
              "\n",
              "          const docLinkHtml = 'Like what you see? Visit the ' +\n",
              "            '<a target=\"_blank\" href=https://colab.research.google.com/notebooks/data_table.ipynb>data table notebook</a>'\n",
              "            + ' to learn more about interactive tables.';\n",
              "          element.innerHTML = '';\n",
              "          dataTable['output_type'] = 'display_data';\n",
              "          await google.colab.output.renderOutput(dataTable, element);\n",
              "          const docLink = document.createElement('div');\n",
              "          docLink.innerHTML = docLinkHtml;\n",
              "          element.appendChild(docLink);\n",
              "        }\n",
              "      </script>\n",
              "    </div>\n",
              "  </div>\n",
              "  "
            ]
          },
          "metadata": {},
          "execution_count": 24
        }
      ]
    },
    {
      "cell_type": "code",
      "source": [
        "fix_kualitasudara_data.info()"
      ],
      "metadata": {
        "id": "zLJl8DhpOAIw",
        "colab": {
          "base_uri": "https://localhost:8080/"
        },
        "outputId": "267ff245-24ee-4b69-f8f1-6a5a5063d1a0"
      },
      "execution_count": null,
      "outputs": [
        {
          "output_type": "stream",
          "name": "stdout",
          "text": [
            "<class 'pandas.core.frame.DataFrame'>\n",
            "Int64Index: 744 entries, 0 to 743\n",
            "Data columns (total 8 columns):\n",
            " #   Column             Non-Null Count  Dtype\n",
            "---  ------             --------------  -----\n",
            " 0   pm10               744 non-null    int64\n",
            " 1   pm2titik5          744 non-null    int64\n",
            " 2   so2                744 non-null    int64\n",
            " 3   co                 744 non-null    int64\n",
            " 4   o3                 744 non-null    int64\n",
            " 5   no2                744 non-null    int64\n",
            " 6   criticalcomponent  744 non-null    int64\n",
            " 7   category           744 non-null    int64\n",
            "dtypes: int64(8)\n",
            "memory usage: 52.3 KB\n"
          ]
        }
      ]
    },
    {
      "cell_type": "markdown",
      "source": [],
      "metadata": {
        "id": "yy7mA8YeQof3"
      }
    },
    {
      "cell_type": "markdown",
      "source": [
        "jumlah responden berdasarkan kategori kondisi udara"
      ],
      "metadata": {
        "id": "1QAE1eRTwYpD"
      }
    },
    {
      "cell_type": "code",
      "source": [
        "sum_0 = fix_kualitasudara_data.loc[fix_kualitasudara_data.category == 1,'category'].count()\n",
        "sum_0"
      ],
      "metadata": {
        "id": "ewwIoBkZ1dD4",
        "colab": {
          "base_uri": "https://localhost:8080/"
        },
        "outputId": "125bdafc-273e-4b37-ba7e-6f63917108b6"
      },
      "execution_count": null,
      "outputs": [
        {
          "output_type": "execute_result",
          "data": {
            "text/plain": [
              "343"
            ]
          },
          "metadata": {},
          "execution_count": 26
        }
      ]
    },
    {
      "cell_type": "code",
      "source": [
        "sum_0 = fix_kualitasudara_data.loc[fix_kualitasudara_data. category == 2,'category'].count()\n",
        "sum_0"
      ],
      "metadata": {
        "colab": {
          "base_uri": "https://localhost:8080/"
        },
        "id": "yOBNZH5yRa5U",
        "outputId": "5c2e0250-d2b6-4eb3-b032-0d6804d63c7b"
      },
      "execution_count": null,
      "outputs": [
        {
          "output_type": "execute_result",
          "data": {
            "text/plain": [
              "401"
            ]
          },
          "metadata": {},
          "execution_count": 27
        }
      ]
    },
    {
      "cell_type": "markdown",
      "source": [
        "Visualisasi 1. Rata rata polusi pm2.5 berdasarkan kondisi udara"
      ],
      "metadata": {
        "id": "nl1soKw0PEhm"
      }
    },
    {
      "cell_type": "code",
      "source": [
        "import numpy as np\n",
        "import matplotlib.pyplot as plt"
      ],
      "metadata": {
        "id": "Yhks8JjNPabz"
      },
      "execution_count": null,
      "outputs": []
    },
    {
      "cell_type": "code",
      "source": [
        "rata_rata = fix_kualitasudara_data.groupby('pm2titik5')['category'].mean()\n",
        "rata_rata"
      ],
      "metadata": {
        "id": "doHira520R8-",
        "colab": {
          "base_uri": "https://localhost:8080/"
        },
        "outputId": "be8bc9ce-9b03-4a77-af7e-d2c84baa610d"
      },
      "execution_count": null,
      "outputs": [
        {
          "output_type": "execute_result",
          "data": {
            "text/plain": [
              "pm2titik5\n",
              "0    1.000000\n",
              "1    1.546322\n",
              "Name: category, dtype: float64"
            ]
          },
          "metadata": {},
          "execution_count": 29
        }
      ]
    },
    {
      "cell_type": "code",
      "source": [
        "menMeans = (1.0, 1.54)\n",
        "avg_good = rata_rata[0]\n",
        "avg_moderate = rata_rata[1]\n",
        "data_dict = {'Good':avg_good, 'Moderate':avg_moderate}\n",
        "courses = list(data_dict.keys())\n",
        "values = list(data_dict.values())\n",
        "fig, ax = plt.subplots(figsize = (5,8))\n",
        "# ax.bar(ind,menMeans,width)\n",
        "for index,data in enumerate(menMeans):\n",
        "    plt.text(x=index , y =data , s=f\"{data}\" , fontdict=dict(fontsize=15), ha='center')\n",
        "\n",
        "#  Bar plot\n",
        "plt.bar(courses, values, color ='#D3B651', width = 0.4)\n",
        "\n",
        "plt.ylabel(\"Kategori udara\", fontsize=15)\n",
        "plt.title(\"Rata-rata kategori udara Berdasarkan pm2.5\", fontsize=15)\n",
        "plt.show()"
      ],
      "metadata": {
        "id": "2wbmYoF81AM5",
        "colab": {
          "base_uri": "https://localhost:8080/",
          "height": 501
        },
        "outputId": "f79aaf36-d95a-4ba4-d8d7-5da963af799a"
      },
      "execution_count": null,
      "outputs": [
        {
          "output_type": "display_data",
          "data": {
            "text/plain": [
              "<Figure size 360x576 with 1 Axes>"
            ],
            "image/png": "[encoded data removed]"
          },
          "metadata": {
            "needs_background": "light"
          }
        }
      ]
    },
    {
      "cell_type": "markdown",
      "source": [
        "Visualisasi 2. Rata rata polusi so2 berdasarkan kondisi udara"
      ],
      "metadata": {
        "id": "qjBrt7fnY2KP"
      }
    },
    {
      "cell_type": "code",
      "source": [
        "rata_rata = fix_kualitasudara_data.groupby('so2')['category'].mean()\n",
        "rata_rata"
      ],
      "metadata": {
        "colab": {
          "base_uri": "https://localhost:8080/"
        },
        "id": "bMUf3a-BZCtZ",
        "outputId": "56fb18f4-0536-48b2-9fa2-02785f8e1a1c"
      },
      "execution_count": null,
      "outputs": [
        {
          "output_type": "execute_result",
          "data": {
            "text/plain": [
              "so2\n",
              "0    1.297945\n",
              "1    1.694690\n",
              "Name: category, dtype: float64"
            ]
          },
          "metadata": {},
          "execution_count": 31
        }
      ]
    },
    {
      "cell_type": "code",
      "source": [
        "menMeans = (1.29, 1.69)\n",
        "avg_good = rata_rata[0]\n",
        "avg_moderate = rata_rata[1]\n",
        "data_dict = {'Good':avg_good, 'Moderate':avg_moderate}\n",
        "courses = list(data_dict.keys())\n",
        "values = list(data_dict.values())\n",
        "fig, ax = plt.subplots(figsize = (5,8))\n",
        "# ax.bar(ind,menMeans,width)\n",
        "for index,data in enumerate(menMeans):\n",
        "    plt.text(x=index , y =data , s=f\"{data}\" , fontdict=dict(fontsize=15), ha='center')\n",
        "\n",
        "#  Bar plot\n",
        "plt.bar(courses, values, color ='#D3B651', width = 0.3)\n",
        "\n",
        "plt.ylabel(\"Kategori udara\", fontsize=15)\n",
        "plt.title(\"Rata-rata kategori udara Berdasarkan so2\", fontsize=15)\n",
        "plt.show()"
      ],
      "metadata": {
        "colab": {
          "base_uri": "https://localhost:8080/",
          "height": 501
        },
        "id": "rjNHapi0Z09i",
        "outputId": "371674d6-8ded-4566-db5f-c557b31f4057"
      },
      "execution_count": null,
      "outputs": [
        {
          "output_type": "display_data",
          "data": {
            "text/plain": [
              "<Figure size 360x576 with 1 Axes>"
            ],
            "image/png": "[encoded data removed]"
          },
          "metadata": {
            "needs_background": "light"
          }
        }
      ]
    },
    {
      "cell_type": "code",
      "source": [
        "rata_rata = fix_kualitasudara_data.groupby('o3')['category'].mean()\n",
        "rata_rata"
      ],
      "metadata": {
        "colab": {
          "base_uri": "https://localhost:8080/"
        },
        "id": "3qbvBlV0cjHD",
        "outputId": "7e22b37f-0f71-4d2c-8d04-5aed89217f71"
      },
      "execution_count": null,
      "outputs": [
        {
          "output_type": "execute_result",
          "data": {
            "text/plain": [
              "o3\n",
              "0    1.423581\n",
              "1    1.723776\n",
              "Name: category, dtype: float64"
            ]
          },
          "metadata": {},
          "execution_count": 33
        }
      ]
    },
    {
      "cell_type": "code",
      "source": [
        "menMeans = (1.42, 1.72)\n",
        "avg_good = rata_rata[0]\n",
        "avg_moderate = rata_rata[1]\n",
        "data_dict = {'Good':avg_good, 'Moderate':avg_moderate}\n",
        "courses = list(data_dict.keys())\n",
        "values = list(data_dict.values())\n",
        "fig, ax = plt.subplots(figsize = (5,8))\n",
        "# ax.bar(ind,menMeans,width)\n",
        "for index,data in enumerate(menMeans):\n",
        "    plt.text(x=index , y =data , s=f\"{data}\" , fontdict=dict(fontsize=15), ha='center')\n",
        "\n",
        "#  Bar plot\n",
        "plt.bar(courses, values, color ='#D3B651', width = 0.3)\n",
        "\n",
        "plt.ylabel(\"Kategori udara\", fontsize=15)\n",
        "plt.title(\"Rata-rata kategori udara Berdasarkan o3\", fontsize=15)\n",
        "plt.show()"
      ],
      "metadata": {
        "colab": {
          "base_uri": "https://localhost:8080/",
          "height": 501
        },
        "id": "CriMhx50c0_s",
        "outputId": "ef7e0d1e-828a-408d-e1fb-3a2168947b6e"
      },
      "execution_count": null,
      "outputs": [
        {
          "output_type": "display_data",
          "data": {
            "text/plain": [
              "<Figure size 360x576 with 1 Axes>"
            ],
            "image/png": "[encoded data removed]"
          },
          "metadata": {
            "needs_background": "light"
          }
        }
      ]
    },
    {
      "cell_type": "code",
      "source": [
        "rata_rata = fix_kualitasudara_data.groupby('no2')['category'].mean()\n",
        "rata_rata"
      ],
      "metadata": {
        "colab": {
          "base_uri": "https://localhost:8080/"
        },
        "id": "E8L9KK2CcmT7",
        "outputId": "ed9988ea-a4a8-45a1-ecf6-2e716712851f"
      },
      "execution_count": null,
      "outputs": [
        {
          "output_type": "execute_result",
          "data": {
            "text/plain": [
              "no2\n",
              "0    1.404218\n",
              "1    1.977143\n",
              "Name: category, dtype: float64"
            ]
          },
          "metadata": {},
          "execution_count": 35
        }
      ]
    },
    {
      "cell_type": "code",
      "source": [
        "menMeans = (1.40, 1.97)\n",
        "avg_good = rata_rata[0]\n",
        "avg_moderate = rata_rata[1]\n",
        "data_dict = {'Good':avg_good, 'Moderate':avg_moderate}\n",
        "courses = list(data_dict.keys())\n",
        "values = list(data_dict.values())\n",
        "fig, ax = plt.subplots(figsize = (5,8))\n",
        "# ax.bar(ind,menMeans,width)\n",
        "for index,data in enumerate(menMeans):\n",
        "    plt.text(x=index , y =data , s=f\"{data}\" , fontdict=dict(fontsize=15), ha='center')\n",
        "\n",
        "#  Bar plot\n",
        "plt.bar(courses, values, color ='#D3B651', width = 0.3)\n",
        "\n",
        "plt.ylabel(\"Kategori udara\", fontsize=15)\n",
        "plt.title(\"Rata-rata kategori udara Berdasarkan no2\", fontsize=15)\n",
        "plt.show()"
      ],
      "metadata": {
        "colab": {
          "base_uri": "https://localhost:8080/",
          "height": 501
        },
        "id": "mP-TnPhsdDxA",
        "outputId": "f605e98e-d988-4300-c974-c2bfebb7fa86"
      },
      "execution_count": null,
      "outputs": [
        {
          "output_type": "display_data",
          "data": {
            "text/plain": [
              "<Figure size 360x576 with 1 Axes>"
            ],
            "image/png": "[encoded data removed]"
          },
          "metadata": {
            "needs_background": "light"
          }
        }
      ]
    },
    {
      "cell_type": "code",
      "source": [
        "fix_kualitasudara_data"
      ],
      "metadata": {
        "colab": {
          "base_uri": "https://localhost:8080/",
          "height": 424
        },
        "id": "mRfmXcqHdNm6",
        "outputId": "c0c0ed82-39ed-4177-a548-5ff8a425d82c"
      },
      "execution_count": null,
      "outputs": [
        {
          "output_type": "execute_result",
          "data": {
            "text/plain": [
              "     pm10  pm2titik5  so2  co  o3  no2  criticalcomponent  category\n",
              "0       0          1    0   1   0    0                  1         1\n",
              "1       0          1    0   1   0    0                  1         1\n",
              "2       0          1    0   1   0    0                  1         1\n",
              "3       0          1    0   1   0    0                  1         1\n",
              "4       0          1    0   1   0    0                  1         1\n",
              "..    ...        ...  ...  ..  ..  ...                ...       ...\n",
              "739     0          1    1   1   1    1                  1         2\n",
              "740     0          1    1   1   1    1                  1         2\n",
              "741     0          1    1   1   1    1                  1         2\n",
              "742     0          1    1   1   1    1                  1         2\n",
              "743     0          1    1   1   1    1                  1         2\n",
              "\n",
              "[744 rows x 8 columns]"
            ],
            "text/html": [
              "\n",
              "  <div id=\"df-2f89aea2-121e-4b98-9c7c-86e70722a43d\">\n",
              "    <div class=\"colab-df-container\">\n",
              "      <div>\n",
              "<style scoped>\n",
              "    .dataframe tbody tr th:only-of-type {\n",
              "        vertical-align: middle;\n",
              "    }\n",
              "\n",
              "    .dataframe tbody tr th {\n",
              "        vertical-align: top;\n",
              "    }\n",
              "\n",
              "    .dataframe thead th {\n",
              "        text-align: right;\n",
              "    }\n",
              "</style>\n",
              "<table border=\"1\" class=\"dataframe\">\n",
              "  <thead>\n",
              "    <tr style=\"text-align: right;\">\n",
              "      <th></th>\n",
              "      <th>pm10</th>\n",
              "      <th>pm2titik5</th>\n",
              "      <th>so2</th>\n",
              "      <th>co</th>\n",
              "      <th>o3</th>\n",
              "      <th>no2</th>\n",
              "      <th>criticalcomponent</th>\n",
              "      <th>category</th>\n",
              "    </tr>\n",
              "  </thead>\n",
              "  <tbody>\n",
              "    <tr>\n",
              "      <th>0</th>\n",
              "      <td>0</td>\n",
              "      <td>1</td>\n",
              "      <td>0</td>\n",
              "      <td>1</td>\n",
              "      <td>0</td>\n",
              "      <td>0</td>\n",
              "      <td>1</td>\n",
              "      <td>1</td>\n",
              "    </tr>\n",
              "    <tr>\n",
              "      <th>1</th>\n",
              "      <td>0</td>\n",
              "      <td>1</td>\n",
              "      <td>0</td>\n",
              "      <td>1</td>\n",
              "      <td>0</td>\n",
              "      <td>0</td>\n",
              "      <td>1</td>\n",
              "      <td>1</td>\n",
              "    </tr>\n",
              "    <tr>\n",
              "      <th>2</th>\n",
              "      <td>0</td>\n",
              "      <td>1</td>\n",
              "      <td>0</td>\n",
              "      <td>1</td>\n",
              "      <td>0</td>\n",
              "      <td>0</td>\n",
              "      <td>1</td>\n",
              "      <td>1</td>\n",
              "    </tr>\n",
              "    <tr>\n",
              "      <th>3</th>\n",
              "      <td>0</td>\n",
              "      <td>1</td>\n",
              "      <td>0</td>\n",
              "      <td>1</td>\n",
              "      <td>0</td>\n",
              "      <td>0</td>\n",
              "      <td>1</td>\n",
              "      <td>1</td>\n",
              "    </tr>\n",
              "    <tr>\n",
              "      <th>4</th>\n",
              "      <td>0</td>\n",
              "      <td>1</td>\n",
              "      <td>0</td>\n",
              "      <td>1</td>\n",
              "      <td>0</td>\n",
              "      <td>0</td>\n",
              "      <td>1</td>\n",
              "      <td>1</td>\n",
              "    </tr>\n",
              "    <tr>\n",
              "      <th>...</th>\n",
              "      <td>...</td>\n",
              "      <td>...</td>\n",
              "      <td>...</td>\n",
              "      <td>...</td>\n",
              "      <td>...</td>\n",
              "      <td>...</td>\n",
              "      <td>...</td>\n",
              "      <td>...</td>\n",
              "    </tr>\n",
              "    <tr>\n",
              "      <th>739</th>\n",
              "      <td>0</td>\n",
              "      <td>1</td>\n",
              "      <td>1</td>\n",
              "      <td>1</td>\n",
              "      <td>1</td>\n",
              "      <td>1</td>\n",
              "      <td>1</td>\n",
              "      <td>2</td>\n",
              "    </tr>\n",
              "    <tr>\n",
              "      <th>740</th>\n",
              "      <td>0</td>\n",
              "      <td>1</td>\n",
              "      <td>1</td>\n",
              "      <td>1</td>\n",
              "      <td>1</td>\n",
              "      <td>1</td>\n",
              "      <td>1</td>\n",
              "      <td>2</td>\n",
              "    </tr>\n",
              "    <tr>\n",
              "      <th>741</th>\n",
              "      <td>0</td>\n",
              "      <td>1</td>\n",
              "      <td>1</td>\n",
              "      <td>1</td>\n",
              "      <td>1</td>\n",
              "      <td>1</td>\n",
              "      <td>1</td>\n",
              "      <td>2</td>\n",
              "    </tr>\n",
              "    <tr>\n",
              "      <th>742</th>\n",
              "      <td>0</td>\n",
              "      <td>1</td>\n",
              "      <td>1</td>\n",
              "      <td>1</td>\n",
              "      <td>1</td>\n",
              "      <td>1</td>\n",
              "      <td>1</td>\n",
              "      <td>2</td>\n",
              "    </tr>\n",
              "    <tr>\n",
              "      <th>743</th>\n",
              "      <td>0</td>\n",
              "      <td>1</td>\n",
              "      <td>1</td>\n",
              "      <td>1</td>\n",
              "      <td>1</td>\n",
              "      <td>1</td>\n",
              "      <td>1</td>\n",
              "      <td>2</td>\n",
              "    </tr>\n",
              "  </tbody>\n",
              "</table>\n",
              "<p>744 rows × 8 columns</p>\n",
              "</div>\n",
              "      <button class=\"colab-df-convert\" onclick=\"convertToInteractive('df-2f89aea2-121e-4b98-9c7c-86e70722a43d')\"\n",
              "              title=\"Convert this dataframe to an interactive table.\"\n",
              "              style=\"display:none;\">\n",
              "        \n",
              "  <svg xmlns=\"http://www.w3.org/2000/svg\" height=\"24px\"viewBox=\"0 0 24 24\"\n",
              "       width=\"24px\">\n",
              "    <path d=\"M0 0h24v24H0V0z\" fill=\"none\"/>\n",
              "    <path d=\"M18.56 5.44l.94 2.06.94-2.06 2.06-.94-2.06-.94-.94-2.06-.94 2.06-2.06.94zm-11 1L8.5 8.5l.94-2.06 2.06-.94-2.06-.94L8.5 2.5l-.94 2.06-2.06.94zm10 10l.94 2.06.94-2.06 2.06-.94-2.06-.94-.94-2.06-.94 2.06-2.06.94z\"/><path d=\"M17.41 7.96l-1.37-1.37c-.4-.4-.92-.59-1.43-.59-.52 0-1.04.2-1.43.59L10.3 9.45l-7.72 7.72c-.78.78-.78 2.05 0 2.83L4 21.41c.39.39.9.59 1.41.59.51 0 1.02-.2 1.41-.59l7.78-7.78 2.81-2.81c.8-.78.8-2.07 0-2.86zM5.41 20L4 18.59l7.72-7.72 1.47 1.35L5.41 20z\"/>\n",
              "  </svg>\n",
              "      </button>\n",
              "      \n",
              "  <style>\n",
              "    .colab-df-container {\n",
              "      display:flex;\n",
              "      flex-wrap:wrap;\n",
              "      gap: 12px;\n",
              "    }\n",
              "\n",
              "    .colab-df-convert {\n",
              "      background-color: #E8F0FE;\n",
              "      border: none;\n",
              "      border-radius: 50%;\n",
              "      cursor: pointer;\n",
              "      display: none;\n",
              "      fill: #1967D2;\n",
              "      height: 32px;\n",
              "      padding: 0 0 0 0;\n",
              "      width: 32px;\n",
              "    }\n",
              "\n",
              "    .colab-df-convert:hover {\n",
              "      background-color: #E2EBFA;\n",
              "      box-shadow: 0px 1px 2px rgba(60, 64, 67, 0.3), 0px 1px 3px 1px rgba(60, 64, 67, 0.15);\n",
              "      fill: #174EA6;\n",
              "    }\n",
              "\n",
              "    [theme=dark] .colab-df-convert {\n",
              "      background-color: #3B4455;\n",
              "      fill: #D2E3FC;\n",
              "    }\n",
              "\n",
              "    [theme=dark] .colab-df-convert:hover {\n",
              "      background-color: #434B5C;\n",
              "      box-shadow: 0px 1px 3px 1px rgba(0, 0, 0, 0.15);\n",
              "      filter: drop-shadow(0px 1px 2px rgba(0, 0, 0, 0.3));\n",
              "      fill: #FFFFFF;\n",
              "    }\n",
              "  </style>\n",
              "\n",
              "      <script>\n",
              "        const buttonEl =\n",
              "          document.querySelector('#df-2f89aea2-121e-4b98-9c7c-86e70722a43d button.colab-df-convert');\n",
              "        buttonEl.style.display =\n",
              "          google.colab.kernel.accessAllowed ? 'block' : 'none';\n",
              "\n",
              "        async function convertToInteractive(key) {\n",
              "          const element = document.querySelector('#df-2f89aea2-121e-4b98-9c7c-86e70722a43d');\n",
              "          const dataTable =\n",
              "            await google.colab.kernel.invokeFunction('convertToInteractive',\n",
              "                                                     [key], {});\n",
              "          if (!dataTable) return;\n",
              "\n",
              "          const docLinkHtml = 'Like what you see? Visit the ' +\n",
              "            '<a target=\"_blank\" href=https://colab.research.google.com/notebooks/data_table.ipynb>data table notebook</a>'\n",
              "            + ' to learn more about interactive tables.';\n",
              "          element.innerHTML = '';\n",
              "          dataTable['output_type'] = 'display_data';\n",
              "          await google.colab.output.renderOutput(dataTable, element);\n",
              "          const docLink = document.createElement('div');\n",
              "          docLink.innerHTML = docLinkHtml;\n",
              "          element.appendChild(docLink);\n",
              "        }\n",
              "      </script>\n",
              "    </div>\n",
              "  </div>\n",
              "  "
            ]
          },
          "metadata": {},
          "execution_count": 37
        }
      ]
    },
    {
      "cell_type": "code",
      "source": [
        "import seaborn as sns \n",
        "import matplotlib as mpl"
      ],
      "metadata": {
        "id": "WY0zkQOXdXnx"
      },
      "execution_count": null,
      "outputs": []
    },
    {
      "cell_type": "code",
      "source": [
        "colors_mix = [\"#17869E\", '#264D58', '#179E66', '#B8860B', '#556B2F', '#CD5C5C']\n",
        "sns.palplot(colors_mix)"
      ],
      "metadata": {
        "colab": {
          "base_uri": "https://localhost:8080/",
          "height": 89
        },
        "id": "vFKtPQ46dZq5",
        "outputId": "f722d4b7-176b-40fc-c771-4e31087f7509"
      },
      "execution_count": null,
      "outputs": [
        {
          "output_type": "display_data",
          "data": {
            "text/plain": [
              "<Figure size 432x72 with 1 Axes>"
            ],
            "image/png": "[encoded data removed]"
          },
          "metadata": {
            "needs_background": "light"
          }
        }
      ]
    },
    {
      "cell_type": "code",
      "source": [
        "sum_pm10 = fix_kualitasudara_data.loc[fix_kualitasudara_data.pm10 == 1, 'pm10'].count()\n",
        "sum_pm2titik5 = fix_kualitasudara_data.loc[fix_kualitasudara_data.pm2titik5 == 1, 'pm2titik5'].count()\n",
        "sum_so2 = fix_kualitasudara_data.loc[fix_kualitasudara_data.so2 == 1, 'so2'].count()\n",
        "sum_co = fix_kualitasudara_data.loc[fix_kualitasudara_data.co == 1, 'co'].count()\n",
        "sum_o3 = fix_kualitasudara_data.loc[fix_kualitasudara_data.o3 == 1, 'o3'].count()\n",
        "sum_no2 = fix_kualitasudara_data.loc[fix_kualitasudara_data.no2 == 1, 'no2'].count()"
      ],
      "metadata": {
        "id": "vvt_ZGhidgIl"
      },
      "execution_count": null,
      "outputs": []
    },
    {
      "cell_type": "code",
      "source": [
        "labels = 'pm10', 'pm2.5', 'so2', 'co', 'o3', 'no2'\n",
        "sizes = [sum_pm10, sum_pm2titik5, sum_so2, sum_co, sum_o3,  sum_no2]\n",
        "colors = [\"#17869E\", '#264D58', '#179E66', '#B8860B', '#556B2F', '#CD5C5C']\n",
        "explode = (0,0,0,0,0,0)\n",
        "plt.title(\"Rata-rata jumlah partikel untuk udara sedang\", fontsize=15)\n",
        "plt.pie(sizes, explode=explode, labels=labels, autopct='%1.1f%%', colors=colors)\n",
        "plt.axis('equal')\n",
        "plt.rcParams[\"figure.figsize\"] = (10,10)\n",
        "mpl.rcParams['font.size'] = 15.0\n",
        "plt.show()"
      ],
      "metadata": {
        "colab": {
          "base_uri": "https://localhost:8080/",
          "height": 592
        },
        "id": "dhaicDJLzdGp",
        "outputId": "38e1f5f5-7cb4-4f87-d9f5-ca10bd1bcfee"
      },
      "execution_count": 44,
      "outputs": [
        {
          "output_type": "display_data",
          "data": {
            "text/plain": [
              "<Figure size 720x720 with 1 Axes>"
            ],
            "image/png": "[encoded data removed]"
          },
          "metadata": {}
        }
      ]
    },
    {
      "cell_type": "code",
      "source": [
        "sum_pm10 = fix_kualitasudara_data.loc[fix_kualitasudara_data.pm10 == 0, 'pm10'].count()\n",
        "sum_pm2titik5 = fix_kualitasudara_data.loc[fix_kualitasudara_data.pm2titik5 == 0, 'pm2titik5'].count()\n",
        "sum_so2 = fix_kualitasudara_data.loc[fix_kualitasudara_data.so2 == 0, 'so2'].count()\n",
        "sum_co = fix_kualitasudara_data.loc[fix_kualitasudara_data.co == 0, 'co'].count()\n",
        "sum_o3 = fix_kualitasudara_data.loc[fix_kualitasudara_data.o3 == 0, 'o3'].count()\n",
        "sum_no2 = fix_kualitasudara_data.loc[fix_kualitasudara_data.no2 == 0, 'no2'].count()"
      ],
      "metadata": {
        "id": "LwctKajOFPkJ"
      },
      "execution_count": null,
      "outputs": []
    },
    {
      "cell_type": "code",
      "source": [
        "labels = 'pm10', 'pm2.5', 'so2', 'co', 'o3', 'no2'\n",
        "sizes = [sum_pm10, sum_pm2titik5, sum_so2, sum_co, sum_o3,  sum_no2]\n",
        "colors = [\"#17869E\", '#264D58', '#179E66', '#B8860B', '#556B2F', '#CD5C5C']\n",
        "explode = (0,0,0,0,0,0)\n",
        "plt.title(\"Rata-rata jumlah partikel untuk udara baik\", fontsize=15)\n",
        "plt.pie(sizes, explode=explode, labels=labels, autopct='%1.1f%%', colors=colors)\n",
        "plt.axis('equal')\n",
        "plt.rcParams[\"figure.figsize\"] = (10,10)\n",
        "mpl.rcParams['font.size'] = 15.0\n",
        "plt.show()"
      ],
      "metadata": {
        "id": "rz5ItkKEFa4u",
        "outputId": "20147097-ded6-48f8-bafa-cbd6bc943412",
        "colab": {
          "base_uri": "https://localhost:8080/",
          "height": 592
        }
      },
      "execution_count": 45,
      "outputs": [
        {
          "output_type": "display_data",
          "data": {
            "text/plain": [
              "<Figure size 720x720 with 1 Axes>"
            ],
            "image/png": "[encoded data removed]"
          },
          "metadata": {}
        }
      ]
    }
  ]
}